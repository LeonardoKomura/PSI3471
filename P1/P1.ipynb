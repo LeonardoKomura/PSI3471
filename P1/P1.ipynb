{
 "cells": [
  {
   "cell_type": "code",
   "execution_count": 2,
   "id": "ecd89c57",
   "metadata": {},
   "outputs": [],
   "source": [
    "## P1 - Parte Computacional - PSI3471\n",
    "## Aluno: Leonardo Isao Komura - NUSP: 11261656"
   ]
  },
  {
   "cell_type": "code",
   "execution_count": 3,
   "id": "9f577434",
   "metadata": {},
   "outputs": [],
   "source": [
    "import pandas as pd\n",
    "import numpy as np\n",
    "import matplotlib.pyplot as plt\n",
    "import math\n",
    "from scipy.fft import dct\n",
    "import torch\n",
    "import torch.nn as nn\n",
    "import torch.nn.functional as F\n",
    "import torch.optim as optim"
   ]
  },
  {
   "cell_type": "code",
   "execution_count": 4,
   "id": "270ecde2",
   "metadata": {},
   "outputs": [],
   "source": [
    "# Leitura dos arquivos\n",
    "ecg_treino = pd.read_csv(\"ecg_treino.csv\")\n",
    "rotulos_treino = pd.read_csv(\"rotulos_treino.csv\")\n",
    "n_rotulos_treino = pd.read_csv(\"n_rotulos_treino.csv\")  \n",
    "\n",
    "ecg_teste = pd.read_csv(\"ecg_teste.csv\")\n",
    "rotulos_teste = pd.read_csv(\"rotulos_teste.csv\")\n",
    "n_rotulos_teste = pd.read_csv(\"n_rotulos_teste.csv\") "
   ]
  },
  {
   "cell_type": "code",
   "execution_count": 5,
   "id": "f26ad67a",
   "metadata": {},
   "outputs": [],
   "source": [
    "# Transformação em formato numpy\n",
    "treino = ecg_treino.to_numpy()\n",
    "r_treino = rotulos_treino.to_numpy()\n",
    "n_treino = n_rotulos_treino.to_numpy()\n",
    "\n",
    "teste = ecg_teste.to_numpy()\n",
    "r_teste = rotulos_teste.to_numpy()\n",
    "n_teste = n_rotulos_teste.to_numpy()"
   ]
  },
  {
   "cell_type": "code",
   "execution_count": 6,
   "id": "7e21e152",
   "metadata": {},
   "outputs": [],
   "source": [
    "# Deletando os \"nomes\" dos pacientes\n",
    "treino = np.delete(treino, 0, axis=1)\n",
    "r_treino = np.delete(r_treino, 0, axis=1)\n",
    "n_treino = np.delete(n_treino, 0, axis=1)\n",
    "\n",
    "teste = np.delete(teste, 0, axis=1)\n",
    "r_teste = np.delete(r_teste, 0, axis=1)\n",
    "n_teste = np.delete(n_teste, 0, axis=1)"
   ]
  },
  {
   "cell_type": "code",
   "execution_count": 59,
   "id": "1f37d05f",
   "metadata": {},
   "outputs": [
    {
     "name": "stdout",
     "output_type": "stream",
     "text": [
      "Média do comprimento dos 5 primeiros batimentos de todos pacientes:  294\n"
     ]
    }
   ],
   "source": [
    "# Cálculo da média do \"comprimento\" dos 5 primeiros batimentos de todos pacientes\n",
    "nn = 0.0\n",
    "for i in range(0, len(n_treino)):\n",
    "    for j in range(5):\n",
    "        nn = nn + abs(n_treino[i,j] - n_treino[i, j+1])\n",
    "nn_average = math.ceil(nn/(5*len(n_treino)))\n",
    "print(\"Média do comprimento dos 5 primeiros batimentos de todos pacientes: \", nn_average)"
   ]
  },
  {
   "cell_type": "code",
   "execution_count": 62,
   "id": "13157926",
   "metadata": {},
   "outputs": [],
   "source": [
    "# Amostrando os primeiros nn_average pontos de cada paciente\n",
    "amostra_treino = np.zeros((len(treino), nn_average))\n",
    "amostra_teste = np.zeros((len(teste), nn_average))\n",
    "for i in range(len(treino)):\n",
    "    for j in range(nn_average):\n",
    "        amostra_treino[i, j] = treino[i, j]\n",
    "\n",
    "for i in range(len(teste)):\n",
    "    for j in range(nn_average):\n",
    "        amostra_teste[i, j] = teste[i, j]"
   ]
  },
  {
   "cell_type": "code",
   "execution_count": 71,
   "id": "286f2a78",
   "metadata": {},
   "outputs": [],
   "source": [
    "# Transformada de Fourier da amostra\n",
    "ft_treino = dct(amostra_treino, n = 20, type = 1)\n",
    "ft_teste = dct(amostra_teste, n = 20, type = 1)\n",
    "\n",
    "# Adicionar coluna de 1's (não é para bias)\n",
    "coluna = np.ones((len(n_treino), 1))\n",
    "ft_treino = np.append(coluna, ft_treino, axis = 1)\n",
    "coluna = np.ones((len(n_teste), 1))\n",
    "ft_teste = np.append(coluna, ft_teste, axis = 1)"
   ]
  },
  {
   "cell_type": "code",
   "execution_count": 76,
   "id": "e97b84af",
   "metadata": {},
   "outputs": [],
   "source": [
    "# Cálculo da média do \"comprimento\" dos 5 primeiros batimentos de cada paciente e adicionando na primeira coluna\n",
    "for i in range(0, len(n_treino)):\n",
    "    nn = 0.0\n",
    "    for j in range(5):\n",
    "        nn = nn + abs(n_treino[i,j] - n_treino[i, j+1])\n",
    "    nn_average = math.ceil(nn/5)\n",
    "    ft_treino[i,0] = nn_average\n",
    "    \n",
    "for i in range(0, len(n_teste)):\n",
    "    nn = 0.0\n",
    "    for j in range(5):\n",
    "        nn = nn + abs(n_teste[i,j] - n_teste[i, j+1])\n",
    "    nn_average = math.ceil(nn/5)\n",
    "    ft_teste[i,0] = nn_average"
   ]
  },
  {
   "cell_type": "code",
   "execution_count": 78,
   "id": "7a8b69f8",
   "metadata": {},
   "outputs": [],
   "source": [
    "# Retornando para dataframe\n",
    "df_ft_treino = pd.DataFrame(ft_treino)\n",
    "df_ft_teste  = pd.DataFrame(ft_teste)"
   ]
  },
  {
   "cell_type": "code",
   "execution_count": null,
   "id": "4cded369",
   "metadata": {},
   "outputs": [],
   "source": [
    "class MLP(nn.Module):\n",
    "    def __init__(self, input_size, n_hidden, output_size):\n",
    "        super(MLP, self).__init__()\n",
    "        self.input_size = input_size\n",
    "        self.network = nn.Sequential(\n",
    "            nn.Linear(input_size, n_hidden), \n",
    "            nn.ELU(),\n",
    "            nn.Linear(n_hidden, n_hidden-10), \n",
    "            nn.ELU(),\n",
    "            nn.Linear(n_hidden-10, n_hidden-10), \n",
    "            nn.ELU(),\n",
    "            nn.Linear(n_hidden-10, output_size), \n",
    "            nn.LogSoftmax(dim=1)\n",
    "        )\n",
    "\n",
    "    def forward(self, x):\n",
    "        x = x.view(-1, self.input_size)\n",
    "        return self.network(x)"
   ]
  },
  {
   "cell_type": "code",
   "execution_count": null,
   "id": "b71cb247",
   "metadata": {},
   "outputs": [],
   "source": [
    "device = torch.device(\"cuda:0\" if torch.cuda.is_available() else \"cpu\")"
   ]
  },
  {
   "cell_type": "code",
   "execution_count": null,
   "id": "26ef9d5b",
   "metadata": {},
   "outputs": [],
   "source": [
    "def train(epoch, model):\n",
    "    # Coloca o modelo em modo de treinamento\n",
    "    model.train()\n",
    "    \n",
    "    # Loop sobre os mini-batches, fornecidos pelo DataLoader train_loader\n",
    "    for batch_idx, (data, target) in enumerate(ft_teste):      \n",
    "        # Para mandar os dados para o device (GPU ou CPU definido anteriormente), usamos o método .to(device)\n",
    "        data, target = data.to(device), target.to(device)\n",
    "        \n",
    "        # Ajuste de dimensões\n",
    "        data = data.view(-1, 1, 28, 28)\n",
    "\n",
    "        # Necessário no PyTorch, para limpar o cache de gradientes acumulados\n",
    "        optimizer.zero_grad()\n",
    "        \n",
    "        # Cálculo da saída\n",
    "        output = model(data)\n",
    "        \n",
    "        # nll_loss é a função custo da entropia cruzada\n",
    "        loss = F.cross_entropy(output, target)\n",
    "        \n",
    "        # cálculo dos gradientes\n",
    "        loss.backward()\n",
    "        \n",
    "        # atualização dos parâmetros do modelo\n",
    "        optimizer.step()\n",
    "        \n",
    "        # Exibe o status do treinamento\n",
    "        if batch_idx % 100 == 0:\n",
    "            print('Train Epoch: {} [{}/{} ({:.0f}%)]\\tLoss: {:.6f}'.format(\n",
    "                epoch, batch_idx * len(data), len(train_loader.dataset),\n",
    "                100. * batch_idx / len(train_loader), loss.item()))\n",
    "            \n",
    "def test(model):\n",
    "    # Coloca o modelo em modo de teste\n",
    "    model.eval()\n",
    "    \n",
    "    # Variáveis usadas para contabilizar o valor da função custo e número de acertos\n",
    "    test_loss = 0\n",
    "    correct = 0\n",
    "    \n",
    "    # Loop sobre os mini-batches, fornecidos pelo DataLoader test_loader\n",
    "    for data, target in ft_teste:\n",
    "        \n",
    "        # Para mandar os dados para o device (GPU ou CPU definido anteriormente), usamos o método .to(device)     \n",
    "        data, target = data.to(device), target.to(device)\n",
    "        \n",
    "        # Ajuste de dimensões\n",
    "        data = data.view(-1, 1, 28, 28)\n",
    "        \n",
    "        # Cálculo da saída\n",
    "        output = model(data)\n",
    "\n",
    "        # Valor da função custo\n",
    "        test_loss += F.cross_entropy(output, target, reduction='sum').item() # sum up batch loss                                                               \n",
    "\n",
    "        # Cálculo do número de acertos\n",
    "        pred = output.data.max(1, keepdim=True)[1] # get the index of the max log-probability                                                                 \n",
    "        correct += pred.eq(target.data.view_as(pred)).cpu().sum().item()\n",
    "\n",
    "    # Mostra o desempenho obtido no teste    \n",
    "    test_loss /= len(test_loader.dataset)\n",
    "    accuracy = 100. * correct / len(test_loader.dataset)\n",
    "    accuracy_list.append(accuracy)\n",
    "    print('\\nTest set: Average loss: {:.4f}, Accuracy: {}/{} ({:.0f}%)\\n'.format(\n",
    "        test_loss, correct, len(test_loader.dataset),\n",
    "        accuracy))"
   ]
  }
 ],
 "metadata": {
  "interpreter": {
   "hash": "9be826744cc5714b462ad0c8de88bfa6f016a48973c6317b9546595d1685cabb"
  },
  "kernelspec": {
   "display_name": "Python 3.10.4 64-bit",
   "language": "python",
   "name": "python3"
  },
  "language_info": {
   "codemirror_mode": {
    "name": "ipython",
    "version": 3
   },
   "file_extension": ".py",
   "mimetype": "text/x-python",
   "name": "python",
   "nbconvert_exporter": "python",
   "pygments_lexer": "ipython3",
   "version": "3.10.4"
  }
 },
 "nbformat": 4,
 "nbformat_minor": 5
}
