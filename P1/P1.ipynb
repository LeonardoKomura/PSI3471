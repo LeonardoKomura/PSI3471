{
 "cells": [
  {
   "cell_type": "code",
   "execution_count": 41,
   "id": "ecd89c57",
   "metadata": {},
   "outputs": [],
   "source": [
    "## P1 - Parte Computacional - PSI3471\n",
    "## Aluno: Leonardo Isao Komura - NUSP: 11261656"
   ]
  },
  {
   "cell_type": "code",
   "execution_count": 42,
   "id": "9f577434",
   "metadata": {},
   "outputs": [],
   "source": [
    "import pandas as pd\n",
    "import numpy as np\n",
    "import matplotlib.pyplot as plt\n",
    "import math\n",
    "import tensorflow as tf\n",
    "from tensorflow import keras\n",
    "from keras import layers\n",
    "from keras.models import Sequential\n",
    "from keras.layers import Dense, Dropout\n",
    "from keras.optimizers import Adam\n",
    "from sklearn.model_selection import train_test_split"
   ]
  },
  {
   "cell_type": "code",
   "execution_count": 43,
   "id": "270ecde2",
   "metadata": {},
   "outputs": [],
   "source": [
    "# Leitura dos arquivos\n",
    "ecg_treino = pd.read_pickle(\"ecg_treino.pickle\")\n",
    "rotulos_treino = pd.read_csv(\"rotulos_treino.csv\")\n",
    "n_rotulos_treino = pd.read_csv(\"n_rotulos_treino.csv\")  \n",
    "\n",
    "ecg_teste = pd.read_pickle(\"ecg_teste.pickle\")\n",
    "rotulos_teste = pd.read_csv(\"rotulos_teste.csv\")\n",
    "n_rotulos_teste = pd.read_csv(\"n_rotulos_teste.csv\") "
   ]
  },
  {
   "cell_type": "code",
   "execution_count": 44,
   "id": "f26ad67a",
   "metadata": {},
   "outputs": [],
   "source": [
    "# Transformação em formato numpy\n",
    "treino = ecg_treino.to_numpy()\n",
    "r_treino = rotulos_treino.to_numpy()\n",
    "n_treino = n_rotulos_treino.to_numpy()\n",
    "\n",
    "teste = ecg_teste.to_numpy()\n",
    "r_teste = rotulos_teste.to_numpy()\n",
    "n_teste = n_rotulos_teste.to_numpy()"
   ]
  },
  {
   "cell_type": "code",
   "execution_count": 45,
   "id": "7e21e152",
   "metadata": {},
   "outputs": [
    {
     "name": "stdout",
     "output_type": "stream",
     "text": [
      "[[-0.345 -0.345 -0.345 ... -0.295 -0.29 0.0]\n",
      " [-0.31 -0.31 -0.31 ... 0.635 0.265 0.0]\n",
      " [-0.125 -0.125 -0.125 ... -0.01 0.04 0.0]\n",
      " ...\n",
      " [-0.69 -0.69 -0.69 ... -0.16 -0.155 0.0]\n",
      " [-0.93 -0.93 -0.93 ... -0.55 -0.555 0.0]\n",
      " [-0.38 -0.38 -0.38 ... -0.59 -0.59 0.0]]\n"
     ]
    }
   ],
   "source": [
    "# Deletando os \"nomes\" dos pacientes\n",
    "treino = np.delete(treino, 0, axis=1)\n",
    "r_treino = np.delete(r_treino, 0, axis=1)\n",
    "n_treino = np.delete(n_treino, 0, axis=1)\n",
    "\n",
    "teste = np.delete(teste, 0, axis=1)\n",
    "r_teste = np.delete(r_teste, 0, axis=1)\n",
    "n_teste = np.delete(n_teste, 0, axis=1)\n",
    "\n",
    "print(treino)"
   ]
  },
  {
   "cell_type": "code",
   "execution_count": 46,
   "id": "1f37d05f",
   "metadata": {},
   "outputs": [
    {
     "name": "stdout",
     "output_type": "stream",
     "text": [
      "Média do comprimento dos 1000 primeiros batimentos de todos pacientes:  291\n"
     ]
    }
   ],
   "source": [
    "# Cálculo da média do \"comprimento\" dos 1000 primeiros batimentos de todos pacientes\n",
    "nn = 0.0\n",
    "for i in range(0, len(n_treino)):\n",
    "    for j in range(1000):\n",
    "        nn = nn + abs(n_treino[i,j] - n_treino[i, j+1])\n",
    "nn_average = math.ceil(nn/(1000*len(n_treino)))\n",
    "print(\"Média do comprimento dos 1000 primeiros batimentos de todos pacientes: \", nn_average)"
   ]
  },
  {
   "cell_type": "code",
   "execution_count": 47,
   "id": "3de6ccdc",
   "metadata": {},
   "outputs": [
    {
     "name": "stderr",
     "output_type": "stream",
     "text": [
      "C:\\Users\\leona\\AppData\\Local\\Temp\\ipykernel_456\\1939063734.py:7: ComplexWarning: Casting complex values to real discards the imaginary part\n",
      "  tensor_treino[i,j] = np.append(0, np.fft.fft(treino[i, int(n_treino[i,j]) : int(n_treino[i,j+1])], n = nn_average-1))\n",
      "C:\\Users\\leona\\AppData\\Local\\Temp\\ipykernel_456\\1939063734.py:12: ComplexWarning: Casting complex values to real discards the imaginary part\n",
      "  tensor_teste[i,j] = np.append(0, np.fft.fft(teste[i, int(n_teste[i,j]) : int(n_teste[i,j+1])], n = nn_average-1))\n"
     ]
    }
   ],
   "source": [
    "# Colocando cada batimento numa posição de um tensor\n",
    "n_pontos = 400000\n",
    "batimentos = int(n_pontos/nn_average)\n",
    "tensor_treino = np.ndarray(shape=(len(treino), batimentos, nn_average), dtype=float)\n",
    "for i in range(len(treino)):\n",
    "    for j in range(batimentos):\n",
    "        tensor_treino[i,j] = np.append(0, np.fft.fft(treino[i, int(n_treino[i,j]) : int(n_treino[i,j+1])], n = nn_average-1))\n",
    "        \n",
    "tensor_teste = np.ndarray(shape=(len(teste), batimentos, nn_average), dtype=float)\n",
    "for i in range(len(teste)):\n",
    "    for j in range(batimentos):\n",
    "        tensor_teste[i,j] = np.append(0, np.fft.fft(teste[i, int(n_teste[i,j]) : int(n_teste[i,j+1])], n = nn_average-1))"
   ]
  },
  {
   "cell_type": "code",
   "execution_count": 48,
   "id": "e7c06047",
   "metadata": {},
   "outputs": [
    {
     "data": {
      "text/plain": [
       "[<matplotlib.lines.Line2D at 0x2273d2be020>]"
      ]
     },
     "execution_count": 48,
     "metadata": {},
     "output_type": "execute_result"
    },
    {
     "data": {
      "image/png": "[encoded data removed]",
      "text/plain": [
       "<Figure size 432x288 with 1 Axes>"
      ]
     },
     "metadata": {
      "needs_background": "light"
     },
     "output_type": "display_data"
    }
   ],
   "source": [
    "plt.plot(tensor_treino[0,7])"
   ]
  },
  {
   "cell_type": "code",
   "execution_count": 49,
   "id": "e97b84af",
   "metadata": {},
   "outputs": [],
   "source": [
    "# Cálculo da média do \"comprimento\" de 3 batimentos\n",
    "for i in range(len(n_treino)):\n",
    "    for j in range(batimentos):\n",
    "        nn = 0.0\n",
    "        if(j == 0):\n",
    "            for k in range(3):\n",
    "                nn = nn + abs(n_treino[i,k] - n_treino[i, k+1])\n",
    "            nn_average = nn/3\n",
    "            tensor_treino[i,j,0] = nn_average\n",
    "        elif(j == batimentos-1):\n",
    "            for k in range(batimentos-4, batimentos-1):\n",
    "                nn = nn + abs(n_treino[i,k] - n_treino[i, k+1])\n",
    "            nn_average = nn/3\n",
    "            tensor_treino[i,j,0] = nn_average\n",
    "        else:\n",
    "            for k in range(3):\n",
    "                nn = nn + abs(n_treino[i,k+j-1] - n_treino[i, k+j])\n",
    "            nn_average = nn/3\n",
    "            tensor_treino[i,j,0] = nn_average\n",
    " \n",
    "for i in range(len(n_teste)):\n",
    "    for j in range(batimentos):\n",
    "        nn = 0.0\n",
    "        if(j == 0):\n",
    "            for k in range(3):\n",
    "                nn = nn + abs(n_teste[i,k] - n_teste[i, k+1])\n",
    "            nn_average = nn/3\n",
    "            tensor_teste[i,j,0] = nn_average\n",
    "        elif(j == batimentos-1):\n",
    "            for k in range(batimentos-4, batimentos-1):\n",
    "                nn = nn + abs(n_teste[i,k] - n_teste[i, k+1])\n",
    "            nn_average = nn/3\n",
    "            tensor_teste[i,j,0] = nn_average\n",
    "        else:\n",
    "            for k in range(3):\n",
    "                nn = nn + abs(n_teste[i,k+j-1] - n_teste[i, k+j])\n",
    "            nn_average = nn/3\n",
    "            tensor_teste[i,j,0] = nn_average   "
   ]
  },
  {
   "cell_type": "code",
   "execution_count": 50,
   "id": "7a8b69f8",
   "metadata": {},
   "outputs": [],
   "source": [
    "# Transformando um tensor numa matriz (cada linha refere-se a um batimento + media)\n",
    "matriz_treino = np.zeros((batimentos*len(treino), len(tensor_treino[0,0])))\n",
    "n = 0\n",
    "for i in range(len(treino)):\n",
    "    for j in range(batimentos):\n",
    "        matriz_treino[n] = tensor_treino[i,j]\n",
    "        n = n+1\n",
    "\n",
    "matriz_teste = np.zeros((batimentos*len(teste), len(tensor_teste[0,0])))\n",
    "n = 0\n",
    "for i in range(len(teste)):\n",
    "    for j in range(batimentos):\n",
    "        matriz_teste[n] = tensor_teste[i,j]\n",
    "        n = n+1"
   ]
  },
  {
   "cell_type": "code",
   "execution_count": 51,
   "id": "5556864c",
   "metadata": {},
   "outputs": [],
   "source": [
    "df_treino = pd.DataFrame(matriz_treino)\n",
    "df_teste = pd.DataFrame(matriz_teste)"
   ]
  },
  {
   "cell_type": "code",
   "execution_count": 52,
   "id": "5883b445",
   "metadata": {},
   "outputs": [
    {
     "name": "stdout",
     "output_type": "stream",
     "text": [
      "              0        1          2          3          4         5    \\\n",
      "0      316.333333  -85.495   1.334420   4.344230  11.853086  1.066591   \n",
      "1      316.333333  -75.480   1.620813   5.644631  11.253024  1.161649   \n",
      "2      324.000000  -87.190   3.100443   7.278384  13.681453  2.723566   \n",
      "3      333.666667 -106.175   2.351918  10.244430  14.573058  4.460593   \n",
      "4      334.666667  -94.160  -0.279416   8.764485  12.686658  4.655553   \n",
      "...           ...      ...        ...        ...        ...       ...   \n",
      "30223  265.333333  -74.765  20.741836  16.503941  17.738175  8.621766   \n",
      "30224  262.666667  -81.230  24.999851  14.953760  11.818414  3.448767   \n",
      "30225  260.333333  -77.245  21.823993  10.370354  13.286535 -0.661038   \n",
      "30226  258.333333  -59.700  21.387182  12.004994  12.114716  0.844712   \n",
      "30227  260.333333  -57.485  21.319439   6.808718   2.573341 -0.880699   \n",
      "\n",
      "            6          7          8          9    ...        281        282  \\\n",
      "0      3.353198   4.823946   2.864674   4.288205  ...   3.941090   4.456639   \n",
      "1      4.262735   4.759057   3.531011   4.724737  ...   4.194187   4.699488   \n",
      "2      5.681174   5.821714   3.627658   4.602632  ...   4.217046   4.243352   \n",
      "3      9.791240   7.528627   5.671912   6.180204  ...   4.804906   4.653080   \n",
      "4      9.735313   6.876920   6.742877   6.348021  ...   5.565471   5.623059   \n",
      "...         ...        ...        ...        ...  ...        ...        ...   \n",
      "30223 -1.361626   0.480034   6.901651   7.883630  ...  16.179238  12.498330   \n",
      "30224 -0.942400  12.856198  20.694432  19.712988  ...  16.900281  20.680959   \n",
      "30225 -5.597768  11.512709  16.526511  18.431756  ...  16.807086  18.488929   \n",
      "30226 -5.014233   9.911705  16.420623  18.328464  ...  19.813678  22.528044   \n",
      "30227  4.841812  20.652960  20.665507  16.169908  ...   6.120549  11.060798   \n",
      "\n",
      "             283        284        285       286       287        288  \\\n",
      "0       4.288205   2.864674   4.823946  3.353198  1.066591  11.853086   \n",
      "1       4.724737   3.531011   4.759057  4.262735  1.161649  11.253024   \n",
      "2       4.602632   3.627658   5.821714  5.681174  2.723566  13.681453   \n",
      "3       6.180204   5.671912   7.528627  9.791240  4.460593  14.573058   \n",
      "4       6.348021   6.742877   6.876920  9.735313  4.655553  12.686658   \n",
      "...          ...        ...        ...       ...       ...        ...   \n",
      "30223   7.883630   6.901651   0.480034 -1.361626  8.621766  17.738175   \n",
      "30224  19.712988  20.694432  12.856198 -0.942400  3.448767  11.818414   \n",
      "30225  18.431756  16.526511  11.512709 -5.597768 -0.661038  13.286535   \n",
      "30226  18.328464  16.420623   9.911705 -5.014233  0.844712  12.114716   \n",
      "30227  16.169908  20.665507  20.652960  4.841812 -0.880699   2.573341   \n",
      "\n",
      "             289        290  \n",
      "0       4.344230   1.334420  \n",
      "1       5.644631   1.620813  \n",
      "2       7.278384   3.100443  \n",
      "3      10.244430   2.351918  \n",
      "4       8.764485  -0.279416  \n",
      "...          ...        ...  \n",
      "30223  16.503941  20.741836  \n",
      "30224  14.953760  24.999851  \n",
      "30225  10.370354  21.823993  \n",
      "30226  12.004994  21.387182  \n",
      "30227   6.808718  21.319439  \n",
      "\n",
      "[30228 rows x 291 columns]\n"
     ]
    }
   ],
   "source": [
    "print(df_treino)"
   ]
  },
  {
   "cell_type": "code",
   "execution_count": 53,
   "id": "5d0c73fe",
   "metadata": {},
   "outputs": [],
   "source": [
    "# Criando a matriz de rótulos binária\n",
    "matriz_rotulos_treino_2 = np.zeros((batimentos*len(treino),1))\n",
    "n = 0\n",
    "for i in range(len(treino)):\n",
    "    for j in range(batimentos):\n",
    "        if(r_treino[i,j] == \"N\"):\n",
    "            x = 0.0\n",
    "        else: x = 1.0\n",
    "        matriz_rotulos_treino_2[n,0] = x\n",
    "        n = n+1\n",
    "        \n",
    "matriz_rotulos_teste_2 = np.zeros((batimentos*len(teste),1))\n",
    "n = 0\n",
    "for i in range(len(teste)):\n",
    "    for j in range(batimentos):\n",
    "        if(r_treino[i,j] == \"N\"):\n",
    "            x = 0.0\n",
    "        else: x = 1.0\n",
    "        matriz_rotulos_teste_2[n,0] = x\n",
    "        n = n+1"
   ]
  },
  {
   "cell_type": "code",
   "execution_count": 54,
   "id": "910be117",
   "metadata": {},
   "outputs": [],
   "source": [
    "df_r_treino_2 = pd.DataFrame(matriz_rotulos_treino_2)\n",
    "df_r_teste_2 = pd.DataFrame(matriz_rotulos_teste_2)"
   ]
  },
  {
   "cell_type": "code",
   "execution_count": 55,
   "id": "5518ce6e",
   "metadata": {},
   "outputs": [],
   "source": [
    "# Criando a matriz de rótulos multiclasse\n",
    "matriz_rotulos_treino_m = np.zeros((batimentos*len(treino),1))\n",
    "n = 0\n",
    "for i in range(len(treino)):\n",
    "    for j in range(batimentos):\n",
    "        if(r_treino[i,j] == \"N\"):\n",
    "            x = 1.0\n",
    "        elif(r_treino[i,j] == \"F\"): \n",
    "            x = 2.0\n",
    "        elif(r_treino[i,j] == \"Q\"): \n",
    "            x = 3.0\n",
    "        elif(r_treino[i,j] == \"S\"): \n",
    "            x = 4.0\n",
    "        elif(r_treino[i,j] == \"V\"): \n",
    "            x = 5.0\n",
    "        else:\n",
    "            x = -1.0\n",
    "        matriz_rotulos_treino_m[n,0] = x\n",
    "        n = n+1\n",
    "        \n",
    "matriz_rotulos_teste_m = np.zeros((batimentos*len(teste),1))\n",
    "n = 0\n",
    "for i in range(len(teste)):\n",
    "    for j in range(batimentos):\n",
    "        if(r_treino[i,j] == \"N\"):\n",
    "            x = 1.0\n",
    "        elif(r_treino[i,j] == \"F\"): \n",
    "            x = 2.0\n",
    "        elif(r_treino[i,j] == \"Q\"): \n",
    "            x = 3.0\n",
    "        elif(r_treino[i,j] == \"S\"): \n",
    "            x = 4.0\n",
    "        elif(r_treino[i,j] == \"V\"): \n",
    "            x = 5.0\n",
    "        else:\n",
    "            x = -1.0\n",
    "        matriz_rotulos_teste_m[n,0] = x\n",
    "        n = n+1\n"
   ]
  },
  {
   "cell_type": "code",
   "execution_count": 56,
   "id": "7d0a94c8",
   "metadata": {},
   "outputs": [],
   "source": [
    "df_r_treino_m = pd.DataFrame(matriz_rotulos_treino_m)\n",
    "df_r_teste_m = pd.DataFrame(matriz_rotulos_teste_m) "
   ]
  },
  {
   "cell_type": "code",
   "execution_count": 57,
   "id": "23a31924",
   "metadata": {},
   "outputs": [],
   "source": [
    "# SMOTE\n",
    "import imblearn\n",
    "from imblearn.over_sampling import SMOTE\n",
    "oversample = SMOTE()\n",
    "df_treino, df_r_treino_2 = oversample.fit_resample(df_treino, df_r_treino_2)"
   ]
  },
  {
   "cell_type": "code",
   "execution_count": 58,
   "id": "9628a590",
   "metadata": {},
   "outputs": [
    {
     "name": "stdout",
     "output_type": "stream",
     "text": [
      "         0\n",
      "0      0.0\n",
      "1      0.0\n",
      "2      0.0\n",
      "3      0.0\n",
      "4      0.0\n",
      "...    ...\n",
      "54791  1.0\n",
      "54792  1.0\n",
      "54793  1.0\n",
      "54794  1.0\n",
      "54795  1.0\n",
      "\n",
      "[54796 rows x 1 columns]\n"
     ]
    }
   ],
   "source": [
    "print(df_r_treino_2)"
   ]
  },
  {
   "cell_type": "code",
   "execution_count": 59,
   "id": "15e53a0e",
   "metadata": {},
   "outputs": [
    {
     "name": "stdout",
     "output_type": "stream",
     "text": [
      "Qtde de treino: 49316\n",
      "Qtde de validação: 5480\n"
     ]
    }
   ],
   "source": [
    "# Validação cruzada\n",
    "from sklearn.model_selection import train_test_split\n",
    "x_train, x_val, y_train, y_val = train_test_split(df_treino, df_r_treino_2, test_size = 0.1, random_state=9)\n",
    "print('Qtde de treino: {}'.format(len(x_train)))\n",
    "print('Qtde de validação: {}'.format(len(x_val)))"
   ]
  },
  {
   "cell_type": "code",
   "execution_count": 60,
   "id": "2f8ff3db",
   "metadata": {},
   "outputs": [],
   "source": [
    "# Criando a MLP\n",
    "model = Sequential()\n",
    "model.add(Dense(300, activation='elu', input_shape=(len(matriz_treino[0]),)))\n",
    "model.add(Dropout(0.2))\n",
    "model.add(Dense(200, activation='elu'))\n",
    "model.add(Dropout(0.2))\n",
    "model.add(Dense(100, activation='elu'))\n",
    "model.add(Dropout(0.2))\n",
    "model.add(Dense(50, activation='elu'))\n",
    "model.add(Dropout(0.2))\n",
    "model.add(Dense(1, activation='sigmoid'))\n",
    "\n",
    "model.compile(loss='binary_crossentropy',\n",
    "              optimizer=\"adam\",\n",
    "              metrics=['accuracy'])"
   ]
  },
  {
   "cell_type": "code",
   "execution_count": 61,
   "id": "d63fbf82",
   "metadata": {},
   "outputs": [
    {
     "name": "stdout",
     "output_type": "stream",
     "text": [
      "Epoch 1/10\n",
      "99/99 [==============================] - 3s 20ms/step - loss: 0.8639 - accuracy: 0.6859 - val_loss: 0.3527 - val_accuracy: 0.8619\n",
      "Epoch 2/10\n",
      "99/99 [==============================] - 2s 20ms/step - loss: 0.3958 - accuracy: 0.8294 - val_loss: 0.2744 - val_accuracy: 0.8673\n",
      "Epoch 3/10\n",
      "99/99 [==============================] - 2s 17ms/step - loss: 0.3079 - accuracy: 0.8741 - val_loss: 0.2112 - val_accuracy: 0.9177\n",
      "Epoch 4/10\n",
      "99/99 [==============================] - 2s 19ms/step - loss: 0.2484 - accuracy: 0.9018 - val_loss: 0.1704 - val_accuracy: 0.9316\n",
      "Epoch 5/10\n",
      "99/99 [==============================] - 2s 18ms/step - loss: 0.2163 - accuracy: 0.9147 - val_loss: 0.1504 - val_accuracy: 0.9405\n",
      "Epoch 6/10\n",
      "99/99 [==============================] - 2s 18ms/step - loss: 0.1821 - accuracy: 0.9294 - val_loss: 0.1240 - val_accuracy: 0.9538\n",
      "Epoch 7/10\n",
      "99/99 [==============================] - 2s 17ms/step - loss: 0.1578 - accuracy: 0.9405 - val_loss: 0.1219 - val_accuracy: 0.9522\n",
      "Epoch 8/10\n",
      "99/99 [==============================] - 2s 17ms/step - loss: 0.1426 - accuracy: 0.9476 - val_loss: 0.1027 - val_accuracy: 0.9624\n",
      "Epoch 9/10\n",
      "99/99 [==============================] - 2s 18ms/step - loss: 0.1248 - accuracy: 0.9535 - val_loss: 0.0927 - val_accuracy: 0.9670\n",
      "Epoch 10/10\n",
      "99/99 [==============================] - 2s 17ms/step - loss: 0.1158 - accuracy: 0.9565 - val_loss: 0.0874 - val_accuracy: 0.9661\n"
     ]
    }
   ],
   "source": [
    "batch_size = 500\n",
    "epochs = 10\n",
    "history = model.fit(x_train, y_train,\n",
    "                    batch_size=batch_size,\n",
    "                    epochs=epochs,\n",
    "                    validation_data=(x_val, y_val))"
   ]
  },
  {
   "cell_type": "code",
   "execution_count": 62,
   "id": "591b8c7b",
   "metadata": {},
   "outputs": [
    {
     "data": {
      "image/png": "[encoded data removed]",
      "text/plain": [
       "<Figure size 1152x576 with 2 Axes>"
      ]
     },
     "metadata": {
      "needs_background": "light"
     },
     "output_type": "display_data"
    }
   ],
   "source": [
    "fig, ax = plt.subplots(1,2, figsize=(16,8))\n",
    "ax[0].plot(history.history['loss'], color='b', label=\"Training loss\")\n",
    "ax[0].plot(history.history['val_loss'], color='r', label=\"validation loss\",axes =ax[0])\n",
    "legend = ax[0].legend(loc='best', shadow=False)\n",
    "\n",
    "ax[1].plot(history.history['accuracy'], color='b', label=\"Training accuracy\")\n",
    "ax[1].plot(history.history['val_accuracy'], color='r',label=\"Validation accuracy\")\n",
    "legend = ax[1].legend(loc='best', shadow=False)\n"
   ]
  },
  {
   "cell_type": "code",
   "execution_count": 63,
   "id": "38051844",
   "metadata": {},
   "outputs": [],
   "source": [
    "import itertools\n",
    "from sklearn.metrics import confusion_matrix\n",
    "from sklearn.metrics import classification_report\n",
    "#Plot the confusion matrix. Set Normalize = True/False\n",
    "def plot_confusion_matrix(cm, classes, normalize=True, title='Confusion matrix', cmap=plt.cm.Blues):\n",
    "    \"\"\"\n",
    "    This function prints and plots the confusion matrix.\n",
    "    Normalization can be applied by setting `normalize=True`.\n",
    "    \"\"\"\n",
    "    plt.figure(figsize=(10,10))\n",
    "    plt.imshow(cm, interpolation='nearest', cmap=cmap)\n",
    "    plt.title(title)\n",
    "    plt.colorbar()\n",
    "    tick_marks = np.arange(len(classes))\n",
    "    plt.xticks(tick_marks, classes, rotation=45)\n",
    "    plt.yticks(tick_marks, classes)\n",
    "    if normalize:\n",
    "        cm = cm.astype('float') / cm.sum(axis=1)[:, np.newaxis]\n",
    "        cm = np.around(cm, decimals=2)\n",
    "        cm[np.isnan(cm)] = 0.0\n",
    "    thresh = cm.max() / 2.\n",
    "    for i, j in itertools.product(range(cm.shape[0]), range(cm.shape[1])):\n",
    "        plt.text(j, i, cm[i, j],\n",
    "                 horizontalalignment=\"center\",\n",
    "                 color=\"white\" if cm[i, j] > thresh else \"black\")\n",
    "    plt.tight_layout()\n",
    "    plt.ylabel('True label')\n",
    "    plt.xlabel('Predicted label')"
   ]
  },
  {
   "cell_type": "code",
   "execution_count": 64,
   "id": "562dfc33",
   "metadata": {},
   "outputs": [
    {
     "name": "stdout",
     "output_type": "stream",
     "text": [
      "945/945 [==============================] - 2s 2ms/step\n",
      "Classification Report\n",
      "              precision    recall  f1-score   support\n",
      "\n",
      "           0       0.73      0.90      0.81     22352\n",
      "           1       0.21      0.08      0.11      7876\n",
      "\n",
      "    accuracy                           0.69     30228\n",
      "   macro avg       0.47      0.49      0.46     30228\n",
      "weighted avg       0.60      0.69      0.63     30228\n",
      "\n"
     ]
    },
    {
     "data": {
      "image/png": "[encoded data removed]",
      "text/plain": [
       "<Figure size 720x720 with 2 Axes>"
      ]
     },
     "metadata": {
      "needs_background": "light"
     },
     "output_type": "display_data"
    }
   ],
   "source": [
    "target_names = ['0', '1']\n",
    "r_teste_2 = (model.predict(df_teste) > 0.5).astype(\"int32\")\n",
    "cm = confusion_matrix(r_teste_2, df_r_teste_2)\n",
    "plot_confusion_matrix(cm, target_names, normalize=False, title='Confusion Matrix')\n",
    "\n",
    "print('Classification Report')\n",
    "print(classification_report(r_teste_2, df_r_teste_2, target_names=target_names))\n"
   ]
  }
 ],
 "metadata": {
  "interpreter": {
   "hash": "9be826744cc5714b462ad0c8de88bfa6f016a48973c6317b9546595d1685cabb"
  },
  "kernelspec": {
   "display_name": "Python 3.10.4 64-bit",
   "language": "python",
   "name": "python3"
  },
  "language_info": {
   "codemirror_mode": {
    "name": "ipython",
    "version": 3
   },
   "file_extension": ".py",
   "mimetype": "text/x-python",
   "name": "python",
   "nbconvert_exporter": "python",
   "pygments_lexer": "ipython3",
   "version": "3.10.4"
  }
 },
 "nbformat": 4,
 "nbformat_minor": 5
}
