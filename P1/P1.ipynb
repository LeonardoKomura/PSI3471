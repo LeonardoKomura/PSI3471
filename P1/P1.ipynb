{
 "cells": [
  {
   "cell_type": "code",
   "execution_count": 1,
   "id": "ecd89c57",
   "metadata": {},
   "outputs": [],
   "source": [
    "## P1 - Parte Computacional - PSI3471\n",
    "## Aluno: Leonardo Isao Komura - NUSP: 11261656"
   ]
  },
  {
   "cell_type": "code",
   "execution_count": 2,
   "id": "9f577434",
   "metadata": {},
   "outputs": [],
   "source": [
    "import pandas as pd\n",
    "import numpy as np\n",
    "import matplotlib.pyplot as plt"
   ]
  },
  {
   "cell_type": "code",
   "execution_count": 3,
   "id": "270ecde2",
   "metadata": {},
   "outputs": [],
   "source": [
    "# Leitura dos arquivos\n",
    "ecg_treino = pd.read_csv(\"ecg_treino.csv\")\n",
    "rotulos_treino = pd.read_csv(\"rotulos_treino.csv\")\n",
    "n_rotulos_treino = pd.read_csv(\"n_rotulos_treino.csv\")  \n",
    "\n",
    "ecg_teste = pd.read_csv(\"ecg_teste.csv\")\n",
    "rotulos_teste = pd.read_csv(\"rotulos_teste.csv\")\n",
    "n_rotulos_teste = pd.read_csv(\"n_rotulos_teste.csv\") "
   ]
  },
  {
   "cell_type": "code",
   "execution_count": 4,
   "id": "f26ad67a",
   "metadata": {},
   "outputs": [],
   "source": [
    "# Transformação em formato numpy\n",
    "treino = ecg_treino.to_numpy()\n",
    "r_treino = rotulos_treino.to_numpy()\n",
    "n_treino = n_rotulos_treino.to_numpy()\n",
    "\n",
    "teste = ecg_teste.to_numpy()\n",
    "r_teste = rotulos_teste.to_numpy()\n",
    "n_teste = n_rotulos_teste.to_numpy()"
   ]
  },
  {
   "cell_type": "code",
   "execution_count": 9,
   "id": "7e21e152",
   "metadata": {},
   "outputs": [
    {
     "name": "stdout",
     "output_type": "stream",
     "text": [
      "N\n"
     ]
    }
   ],
   "source": [
    "# Deletando os \"nomes\" dos pacientes\n",
    "treino = np.delete(treino, 0, axis=1)\n",
    "r_treino = np.delete(r_treino, 0, axis=1)\n",
    "n_treino = np.delete(n_treino, 0, axis=1)\n",
    "\n",
    "teste = np.delete(teste, 0, axis=1)\n",
    "r_teste = np.delete(r_teste, 0, axis=1)\n",
    "n_teste = np.delete(n_teste, 0, axis=1)"
   ]
  },
  {
   "cell_type": "code",
   "execution_count": 15,
   "id": "1f37d05f",
   "metadata": {},
   "outputs": [
    {
     "name": "stdout",
     "output_type": "stream",
     "text": [
      "279.0863636363636\n"
     ]
    }
   ],
   "source": [
    "# Cálculo da média do \"comprimento\" dos 10 primeiros batimentos\n",
    "nn = 0.0\n",
    "for i in range(0, len(n_treino)-1):\n",
    "    for j in range(10):\n",
    "        nn = nn + abs(n_treino[i,j] - n_treino[i, j+1])\n",
    "nn_average = nn/(10*len(n_treino))\n",
    "print(nn_average)"
   ]
  },
  {
   "cell_type": "code",
   "execution_count": null,
   "id": "13157926",
   "metadata": {},
   "outputs": [],
   "source": []
  }
 ],
 "metadata": {
  "interpreter": {
   "hash": "9be826744cc5714b462ad0c8de88bfa6f016a48973c6317b9546595d1685cabb"
  },
  "kernelspec": {
   "display_name": "Python 3.10.4 64-bit",
   "language": "python",
   "name": "python3"
  },
  "language_info": {
   "codemirror_mode": {
    "name": "ipython",
    "version": 3
   },
   "file_extension": ".py",
   "mimetype": "text/x-python",
   "name": "python",
   "nbconvert_exporter": "python",
   "pygments_lexer": "ipython3",
   "version": "3.10.4"
  }
 },
 "nbformat": 4,
 "nbformat_minor": 5
}
