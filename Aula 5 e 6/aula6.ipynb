{
 "cells": [
  {
   "cell_type": "code",
   "execution_count": 2,
   "metadata": {},
   "outputs": [],
   "source": [
    "import cv2\n",
    "import queue\n",
    "import numpy as np\n",
    "import math \n",
    "import matplotlib.pyplot as plt\n",
    "import matplotlib.image as mpimg"
   ]
  },
  {
   "cell_type": "code",
   "execution_count": 6,
   "metadata": {},
   "outputs": [],
   "source": [
    "def matchTemplateSame(a, q, method, backg=0.0):\n",
    " p = np.full( a.shape, backg, dtype=np.float32 )\n",
    " p[ (q.shape[0]-1)//2 : ((q.shape[0]-1)//2)+(a.shape[0]-q.shape[0]+1),\n",
    " (q.shape[1]-1)//2 : ((q.shape[1]-1)//2)+(a.shape[1]-q.shape[1]+1) ] \\\n",
    " = cv2.matchTemplate(a, q, method);\n",
    " return p\n"
   ]
  },
  {
   "cell_type": "code",
   "execution_count": 3,
   "metadata": {},
   "outputs": [],
   "source": [
    "a = cv2.imread('a.png',cv2.IMREAD_COLOR)\n",
    "q = cv2.imread('q.png',cv2.IMREAD_COLOR)"
   ]
  },
  {
   "cell_type": "code",
   "execution_count": 9,
   "metadata": {},
   "outputs": [
    {
     "ename": "ValueError",
     "evalue": "could not broadcast input array from shape (176,249) into shape (176,249,3)",
     "output_type": "error",
     "traceback": [
      "\u001b[1;31m---------------------------------------------------------------------------\u001b[0m",
      "\u001b[1;31mValueError\u001b[0m                                Traceback (most recent call last)",
      "\u001b[1;32md:\\Faculdade\\PSI3471\\Aula 5 e 6\\aula6.ipynb Cell 4'\u001b[0m in \u001b[0;36m<cell line: 1>\u001b[1;34m()\u001b[0m\n\u001b[1;32m----> <a href='vscode-notebook-cell:/d%3A/Faculdade/PSI3471/Aula%205%20e%206/aula6.ipynb#ch0000002?line=0'>1</a>\u001b[0m p2\u001b[39m=\u001b[39mmatchTemplateSame(a, q, cv2\u001b[39m.\u001b[39;49mTM_CCOEFF_NORMED)\n",
      "\u001b[1;32md:\\Faculdade\\PSI3471\\Aula 5 e 6\\aula6.ipynb Cell 2'\u001b[0m in \u001b[0;36mmatchTemplateSame\u001b[1;34m(a, q, method, backg)\u001b[0m\n\u001b[0;32m      <a href='vscode-notebook-cell:/d%3A/Faculdade/PSI3471/Aula%205%20e%206/aula6.ipynb#ch0000004?line=0'>1</a>\u001b[0m \u001b[39mdef\u001b[39;00m \u001b[39mmatchTemplateSame\u001b[39m(a, q, method, backg\u001b[39m=\u001b[39m\u001b[39m0.0\u001b[39m):\n\u001b[0;32m      <a href='vscode-notebook-cell:/d%3A/Faculdade/PSI3471/Aula%205%20e%206/aula6.ipynb#ch0000004?line=1'>2</a>\u001b[0m  p \u001b[39m=\u001b[39m np\u001b[39m.\u001b[39mfull( a\u001b[39m.\u001b[39mshape, backg, dtype\u001b[39m=\u001b[39mnp\u001b[39m.\u001b[39mfloat32 )\n\u001b[1;32m----> <a href='vscode-notebook-cell:/d%3A/Faculdade/PSI3471/Aula%205%20e%206/aula6.ipynb#ch0000004?line=2'>3</a>\u001b[0m  p[ (q\u001b[39m.\u001b[39mshape[\u001b[39m0\u001b[39m]\u001b[39m-\u001b[39m\u001b[39m1\u001b[39m)\u001b[39m/\u001b[39m\u001b[39m/\u001b[39m\u001b[39m2\u001b[39m : ((q\u001b[39m.\u001b[39mshape[\u001b[39m0\u001b[39m]\u001b[39m-\u001b[39m\u001b[39m1\u001b[39m)\u001b[39m/\u001b[39m\u001b[39m/\u001b[39m\u001b[39m2\u001b[39m)\u001b[39m+\u001b[39m(a\u001b[39m.\u001b[39mshape[\u001b[39m0\u001b[39m]\u001b[39m-\u001b[39mq\u001b[39m.\u001b[39mshape[\u001b[39m0\u001b[39m]\u001b[39m+\u001b[39m\u001b[39m1\u001b[39m),\n\u001b[0;32m      <a href='vscode-notebook-cell:/d%3A/Faculdade/PSI3471/Aula%205%20e%206/aula6.ipynb#ch0000004?line=3'>4</a>\u001b[0m  (q\u001b[39m.\u001b[39mshape[\u001b[39m1\u001b[39m]\u001b[39m-\u001b[39m\u001b[39m1\u001b[39m)\u001b[39m/\u001b[39m\u001b[39m/\u001b[39m\u001b[39m2\u001b[39m : ((q\u001b[39m.\u001b[39mshape[\u001b[39m1\u001b[39m]\u001b[39m-\u001b[39m\u001b[39m1\u001b[39m)\u001b[39m/\u001b[39m\u001b[39m/\u001b[39m\u001b[39m2\u001b[39m)\u001b[39m+\u001b[39m(a\u001b[39m.\u001b[39mshape[\u001b[39m1\u001b[39m]\u001b[39m-\u001b[39mq\u001b[39m.\u001b[39mshape[\u001b[39m1\u001b[39m]\u001b[39m+\u001b[39m\u001b[39m1\u001b[39m) ] \\\n\u001b[0;32m      <a href='vscode-notebook-cell:/d%3A/Faculdade/PSI3471/Aula%205%20e%206/aula6.ipynb#ch0000004?line=4'>5</a>\u001b[0m  \u001b[39m=\u001b[39m cv2\u001b[39m.\u001b[39mmatchTemplate(a, q, method);\n\u001b[0;32m      <a href='vscode-notebook-cell:/d%3A/Faculdade/PSI3471/Aula%205%20e%206/aula6.ipynb#ch0000004?line=5'>6</a>\u001b[0m  \u001b[39mreturn\u001b[39;00m p\n",
      "\u001b[1;31mValueError\u001b[0m: could not broadcast input array from shape (176,249) into shape (176,249,3)"
     ]
    }
   ],
   "source": [
    "p2=matchTemplateSame(a, q, cv2.TM_CCOEFF_NORMED)"
   ]
  }
 ],
 "metadata": {
  "kernelspec": {
   "display_name": "Python 3.10.4 64-bit",
   "language": "python",
   "name": "python3"
  },
  "language_info": {
   "codemirror_mode": {
    "name": "ipython",
    "version": 3
   },
   "file_extension": ".py",
   "mimetype": "text/x-python",
   "name": "python",
   "nbconvert_exporter": "python",
   "pygments_lexer": "ipython3",
   "version": "3.10.4"
  },
  "orig_nbformat": 4,
  "vscode": {
   "interpreter": {
    "hash": "9be826744cc5714b462ad0c8de88bfa6f016a48973c6317b9546595d1685cabb"
   }
  }
 },
 "nbformat": 4,
 "nbformat_minor": 2
}
