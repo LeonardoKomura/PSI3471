{
 "cells": [
  {
   "cell_type": "code",
   "execution_count": 19,
   "metadata": {},
   "outputs": [],
   "source": [
    "from tensorflow import keras\n",
    "from keras.datasets import mnist\n",
    "import cv2\n",
    "import numpy as np\n",
    "import sys\n",
    "import time\n",
    "import matplotlib.pyplot as plt\n",
    "import matplotlib.image as mpimg"
   ]
  },
  {
   "cell_type": "code",
   "execution_count": 20,
   "metadata": {},
   "outputs": [],
   "source": [
    "(AX, ay), (QX, qy) = mnist.load_data()"
   ]
  },
  {
   "cell_type": "code",
   "execution_count": 21,
   "metadata": {},
   "outputs": [],
   "source": [
    "def bigger(x, y):\n",
    "    xn = np.empty((x.shape))\n",
    "    xs = np.empty((x.shape))\n",
    "    xl = np.empty((x.shape))\n",
    "    xo = np.empty((x.shape))\n",
    "\n",
    "    norte = np.float32([[1,0,-1], [0,1,0]])      # Deslocamento para norte\n",
    "    sul   = np.float32([[1,0,1], [0,1,0]])       # Deslocamento para sul\n",
    "    leste = np.float32([[1,0,0], [0,1,1]])       # Deslocamento para leste\n",
    "    oeste = np.float32([[1,0,0], [0,1,-1]])      # Deslocamento para oeste\n",
    "\n",
    "    length = x.shape[0]\n",
    "    for i in range(length):\n",
    "        xn[i] = cv2.warpAffine(x[i], norte, (x.shape[1], x.shape[2]))\n",
    "        xs[i] = cv2.warpAffine(x[i], sul, (x.shape[1], x.shape[2]))\n",
    "        xl[i] = cv2.warpAffine(x[i], leste, (x.shape[1], x.shape[2]))\n",
    "        xo[i] = cv2.warpAffine(x[i], oeste, (x.shape[1], x.shape[2]))\n",
    "\n",
    "    new_x = np.append(x, xn, axis=0)\n",
    "    new_x = np.append(new_x, xs, axis=0)\n",
    "    new_x = np.append(new_x, xl, axis=0)\n",
    "    new_x = np.append(new_x, xo, axis=0)\n",
    "    \n",
    "    y = np.append(y, np.array([y]))\n",
    "    y = np.append(y, np.array([y]))\n",
    "    y = np.append(y, np.array([y]))\n",
    "    y = np.append(y, np.array([y]))\n",
    "    \n",
    "    return new_x, y\n",
    "    "
   ]
  },
  {
   "cell_type": "code",
   "execution_count": 22,
   "metadata": {},
   "outputs": [],
   "source": [
    "ax=np.empty((AX.shape[0],14,14))\n",
    "for i in range(AX.shape[0]):\n",
    "    ax[i]=cv2.resize(AX[i],(14,14));\n",
    "qx=np.empty((QX.shape[0],14,14))\n",
    "for i in range(QX.shape[0]):\n",
    "    qx[i]=cv2.resize(QX[i],(14,14));\n",
    "\n",
    "ax, ay = bigger(ax, ay)\n",
    "qx, qy = bigger(qx, qy)"
   ]
  },
  {
   "cell_type": "code",
   "execution_count": 23,
   "metadata": {},
   "outputs": [],
   "source": [
    "ax = ax.astype('float32')\n",
    "qx = qx.astype('float32')\n",
    "ax = ax.reshape(ax.shape[0],ax.shape[1]*ax.shape[2])\n",
    "qx = qx.reshape(qx.shape[0],qx.shape[1]*qx.shape[2])\n",
    "ax /= 255.0 #0 a 1\n",
    "qx /= 255.0 #0 a 1\n",
    "qp=np.empty(qy.shape,dtype=\"uint8\")"
   ]
  },
  {
   "cell_type": "code",
   "execution_count": 24,
   "metadata": {},
   "outputs": [],
   "source": [
    "t1 = time.time()\n",
    "FLANN_INDEX_KDTREE = 1\n",
    "flann_params = dict(algorithm = FLANN_INDEX_KDTREE, trees = 4)\n",
    "flann = cv2.flann_Index(ax, flann_params)\n",
    "t2 = time.time()\n",
    "matches, dists = flann.knnSearch(qx, 1)\n",
    "t3 = time.time()"
   ]
  },
  {
   "cell_type": "code",
   "execution_count": 25,
   "metadata": {},
   "outputs": [],
   "source": [
    "for l in range(matches.shape[0]):\n",
    "    i=matches[l]\n",
    "    qp[l]=ay[i]"
   ]
  },
  {
   "cell_type": "code",
   "execution_count": 26,
   "metadata": {},
   "outputs": [],
   "source": [
    "erros=0\n",
    "for l in range(matches.shape[0]):\n",
    "    if qp[l]!=qy[l]: erros+=1"
   ]
  },
  {
   "cell_type": "code",
   "execution_count": 27,
   "metadata": {},
   "outputs": [
    {
     "name": "stdout",
     "output_type": "stream",
     "text": [
      "Erros= 1.16%\n",
      "Tempo de treinamento: 5.380121\n",
      "Tempo de predicao: 1.566865\n"
     ]
    }
   ],
   "source": [
    "print(\"Erros=%5.2f%%\" % (100.0*erros/qy.shape[0]) )\n",
    "print(\"Tempo de treinamento: %f\"%(t2-t1))\n",
    "print(\"Tempo de predicao: %f\"%(t3-t2))"
   ]
  }
 ],
 "metadata": {
  "kernelspec": {
   "display_name": "Python 3.10.4 64-bit",
   "language": "python",
   "name": "python3"
  },
  "language_info": {
   "codemirror_mode": {
    "name": "ipython",
    "version": 3
   },
   "file_extension": ".py",
   "mimetype": "text/x-python",
   "name": "python",
   "nbconvert_exporter": "python",
   "pygments_lexer": "ipython3",
   "version": "3.10.4"
  },
  "orig_nbformat": 4,
  "vscode": {
   "interpreter": {
    "hash": "9be826744cc5714b462ad0c8de88bfa6f016a48973c6317b9546595d1685cabb"
   }
  }
 },
 "nbformat": 4,
 "nbformat_minor": 2
}
