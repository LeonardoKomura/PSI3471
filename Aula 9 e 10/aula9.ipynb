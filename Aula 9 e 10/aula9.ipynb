{
 "cells": [
  {
   "cell_type": "code",
   "execution_count": 180,
   "metadata": {},
   "outputs": [],
   "source": [
    "from tensorflow import keras\n",
    "from keras.datasets import mnist\n",
    "import cv2\n",
    "import numpy as np\n",
    "import sys\n",
    "import time\n",
    "import matplotlib.pyplot as plt\n",
    "import matplotlib.image as mpimg"
   ]
  },
  {
   "cell_type": "code",
   "execution_count": 181,
   "metadata": {},
   "outputs": [],
   "source": [
    "(ax, ay), (qx, qy) = mnist.load_data()"
   ]
  },
  {
   "cell_type": "code",
   "execution_count": 182,
   "metadata": {},
   "outputs": [],
   "source": [
    "axn = np.float32(np.empty(ax.shape))\n",
    "axs = np.float32(np.empty(ax.shape))\n",
    "axl = np.float32(np.empty(ax.shape))\n",
    "axo = np.float32(np.empty(ax.shape))\n",
    "qxn = np.float32(np.empty(qx.shape))\n",
    "qxs = np.float32(np.empty(qx.shape))\n",
    "qxl = np.float32(np.empty(qx.shape))\n",
    "qxo = np.float32(np.empty(qx.shape))"
   ]
  },
  {
   "cell_type": "code",
   "execution_count": 183,
   "metadata": {},
   "outputs": [],
   "source": [
    "length = ax.shape[0]\n",
    "for i in range(length):\n",
    "    axn[i, :-1, :] = ax[i, 1:, :]    # Deslocamento para norte\n",
    "    axs[i, 1:, :] = ax[i, :-1, :]    # Deslocamento para sul\n",
    "    axl[i, :, 1:] = ax[i, :, :-1]    # Deslocamento para leste\n",
    "    axo[i, :, :-1] = ax[i, :, 1:]    # Deslocamento para oeste\n",
    "    \n",
    "new_ax = np.empty((5*length,28,28))\n",
    "new_ax[:length,:,:] = ax[:,:,:]\n",
    "new_ax[length:2*length,:,:] = axn[:,:,:]\n",
    "new_ax[2*length:3*length,:,:] = axs[:,:,:]\n",
    "new_ax[3*length:4*length,:,:] = axl[:,:,:]\n",
    "new_ax[4*length:5*length,:,:] = axo[:,:,:]"
   ]
  },
  {
   "cell_type": "code",
   "execution_count": 185,
   "metadata": {},
   "outputs": [],
   "source": [
    "length = qx.shape[0]\n",
    "for i in range(length):\n",
    "    qxn[i, :-1, :] = qx[i, 1:, :]    # Deslocamento para norte\n",
    "    qxs[i, 1:, :] = qx[i, :-1, :]    # Deslocamento para sul\n",
    "    qxl[i, :, 1:] = qx[i, :, :-1]    # Deslocamento para leste\n",
    "    qxo[i, :, :-1] = qx[i, :, 1:]    # Deslocamento para oeste\n",
    "    \n",
    "new_qx = np.empty((5*length,28,28))\n",
    "new_qx[:length,:,:] = qx[:,:,:]\n",
    "new_qx[length:2*length,:,:] = qxn[:,:,:]\n",
    "new_qx[2*length:3*length,:,:] = qxs[:,:,:]\n",
    "new_qx[3*length:4*length,:,:] = qxl[:,:,:]\n",
    "new_qx[4*length:5*length,:,:] = qxo[:,:,:]"
   ]
  },
  {
   "cell_type": "code",
   "execution_count": 187,
   "metadata": {},
   "outputs": [],
   "source": [
    "new_ay = np.empty(5*ay.shape[0])\n",
    "new_ay[:ay.shape[0]] = ay[:]\n",
    "new_ay[ay.shape[0]:2*ay.shape[0]] = ay[:]\n",
    "new_ay[2*ay.shape[0]:3*ay.shape[0]] = ay[:]\n",
    "new_ay[3*ay.shape[0]:4*ay.shape[0]] = ay[:]\n",
    "new_ay[4*ay.shape[0]:5*ay.shape[0]] = ay[:]\n",
    "\n",
    "new_qy = np.empty(5*qy.shape[0])\n",
    "new_qy[:qy.shape[0]] = qy[:]\n",
    "new_qy[qy.shape[0]:2*qy.shape[0]] = qy[:]\n",
    "new_qy[2*qy.shape[0]:3*qy.shape[0]] = qy[:]\n",
    "new_qy[3*qy.shape[0]:4*qy.shape[0]] = qy[:]\n",
    "new_qy[4*qy.shape[0]:5*qy.shape[0]] = qy[:]"
   ]
  },
  {
   "cell_type": "code",
   "execution_count": 189,
   "metadata": {},
   "outputs": [],
   "source": [
    "new_ax = new_ax.astype('float32')\n",
    "new_qx = new_qx.astype('float32')\n",
    "new_ax = new_ax.reshape(new_ax.shape[0],new_ax.shape[1]*new_ax.shape[2])\n",
    "new_qx = new_qx.reshape(new_qx.shape[0],new_qx.shape[1]*new_qx.shape[2])\n",
    "new_ax /= 255.0 #0 a 1\n",
    "new_qx /= 255.0 #0 a 1\n",
    "qp=np.empty(new_qy.shape,dtype=\"uint8\")"
   ]
  },
  {
   "cell_type": "code",
   "execution_count": 190,
   "metadata": {},
   "outputs": [],
   "source": [
    "t1 = time.time()\n",
    "FLANN_INDEX_KDTREE = 1\n",
    "flann_params = dict(algorithm = FLANN_INDEX_KDTREE, trees = 4)\n",
    "flann = cv2.flann_Index(new_ax, flann_params)\n",
    "t2 = time.time()\n",
    "matches, dists = flann.knnSearch(new_qx, 1)\n",
    "t3 = time.time()"
   ]
  },
  {
   "cell_type": "code",
   "execution_count": 191,
   "metadata": {},
   "outputs": [],
   "source": [
    "for l in range(matches.shape[0]):\n",
    "    i=matches[l]\n",
    "    qp[l]=new_ay[i]"
   ]
  },
  {
   "cell_type": "code",
   "execution_count": 192,
   "metadata": {},
   "outputs": [],
   "source": [
    "erros=0;\n",
    "for l in range(matches.shape[0]):\n",
    "    if qp[l]!=new_qy[l]: erros+=1"
   ]
  },
  {
   "cell_type": "code",
   "execution_count": 193,
   "metadata": {},
   "outputs": [
    {
     "name": "stdout",
     "output_type": "stream",
     "text": [
      "Erros= 4.11%\n",
      "Tempo de treinamento: 15.989111\n",
      "Tempo de predicao: 1.949744\n"
     ]
    }
   ],
   "source": [
    "print(\"Erros=%5.2f%%\" % (100.0*erros/new_qy.shape[0]) )\n",
    "print(\"Tempo de treinamento: %f\"%(t2-t1))\n",
    "print(\"Tempo de predicao: %f\"%(t3-t2))"
   ]
  }
 ],
 "metadata": {
  "kernelspec": {
   "display_name": "Python 3.10.4 64-bit",
   "language": "python",
   "name": "python3"
  },
  "language_info": {
   "codemirror_mode": {
    "name": "ipython",
    "version": 3
   },
   "file_extension": ".py",
   "mimetype": "text/x-python",
   "name": "python",
   "nbconvert_exporter": "python",
   "pygments_lexer": "ipython3",
   "version": "3.10.4"
  },
  "orig_nbformat": 4,
  "vscode": {
   "interpreter": {
    "hash": "9be826744cc5714b462ad0c8de88bfa6f016a48973c6317b9546595d1685cabb"
   }
  }
 },
 "nbformat": 4,
 "nbformat_minor": 2
}
