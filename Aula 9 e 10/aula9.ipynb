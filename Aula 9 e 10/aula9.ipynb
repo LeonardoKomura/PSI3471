{
 "cells": [
  {
   "cell_type": "code",
   "execution_count": 44,
   "metadata": {},
   "outputs": [],
   "source": [
    "from tensorflow import keras\n",
    "from keras.datasets import mnist\n",
    "import cv2\n",
    "import numpy as np\n",
    "import sys\n",
    "import time\n",
    "import matplotlib.pyplot as plt\n",
    "import matplotlib.image as mpimg"
   ]
  },
  {
   "cell_type": "code",
   "execution_count": 45,
   "metadata": {},
   "outputs": [],
   "source": [
    "(AX, ay), (QX, qy) = mnist.load_data()"
   ]
  },
  {
   "cell_type": "code",
   "execution_count": 46,
   "metadata": {},
   "outputs": [
    {
     "data": {
      "text/plain": [
       "(60000, 28, 28)"
      ]
     },
     "execution_count": 46,
     "metadata": {},
     "output_type": "execute_result"
    }
   ],
   "source": [
    "AX.shape"
   ]
  },
  {
   "cell_type": "code",
   "execution_count": 47,
   "metadata": {},
   "outputs": [],
   "source": [
    "ax=np.empty((AX.shape[0],14,14))\n",
    "for i in range(AX.shape[0]):\n",
    "    ax[i]=cv2.resize(AX[i],(14,14))\n",
    "    \n",
    "qx=np.empty((QX.shape[0],14,14))\n",
    "for i in range(QX.shape[0]):\n",
    "    qx[i]=cv2.resize(QX[i],(14,14))"
   ]
  },
  {
   "cell_type": "code",
   "execution_count": 48,
   "metadata": {},
   "outputs": [],
   "source": [
    "axn = np.zeros(ax.shape)\n",
    "axs = np.zeros(ax.shape)\n",
    "axl = np.zeros(ax.shape)\n",
    "axo = np.zeros(ax.shape)"
   ]
  },
  {
   "cell_type": "code",
   "execution_count": 49,
   "metadata": {},
   "outputs": [],
   "source": [
    "length = ax.shape[0]"
   ]
  },
  {
   "cell_type": "code",
   "execution_count": 50,
   "metadata": {},
   "outputs": [],
   "source": [
    "for i in range(length):\n",
    "    axn[i, :-1, :] = ax[i, 1:, :]    # Deslocamento para norte\n",
    "    axs[i, 1:, :] = ax[i, :-1, :]    # Deslocamento para sul\n",
    "    axl[i, :, 1:] = ax[i, :, :-1]    # Deslocamento para leste\n",
    "    axo[i, :, :-1] = ax[i, :, 1:]    # Deslocamento para oeste"
   ]
  },
  {
   "cell_type": "code",
   "execution_count": 51,
   "metadata": {},
   "outputs": [],
   "source": [
    "new_ax = np.zeros((5*length,14,14))\n",
    "new_ax[:length,:,:] = ax[:,:,:]\n",
    "new_ax[length:2*length,:,:] = axn[:,:,:]\n",
    "new_ax[2*length:3*length,:,:] = axs[:,:,:]\n",
    "new_ax[3*length:4*length,:,:] = axl[:,:,:]\n",
    "new_ax[4*length:5*length,:,:] = axo[:,:,:]"
   ]
  },
  {
   "cell_type": "code",
   "execution_count": 52,
   "metadata": {},
   "outputs": [
    {
     "data": {
      "image/png": "[encoded data removed]",
      "text/plain": [
       "<Figure size 432x288 with 1 Axes>"
      ]
     },
     "metadata": {
      "needs_background": "light"
     },
     "output_type": "display_data"
    }
   ],
   "source": [
    "imgplot = plt.imshow(new_ax[1], cmap='gray', vmin=0, vmax=255)\n",
    "plt.show()"
   ]
  },
  {
   "cell_type": "code",
   "execution_count": 53,
   "metadata": {},
   "outputs": [
    {
     "data": {
      "text/plain": [
       "Text(0.5, 1.0, 'Oeste')"
      ]
     },
     "execution_count": 53,
     "metadata": {},
     "output_type": "execute_result"
    },
    {
     "data": {
      "image/png": "[encoded data removed]",
      "text/plain": [
       "<Figure size 432x288 with 4 Axes>"
      ]
     },
     "metadata": {
      "needs_background": "light"
     },
     "output_type": "display_data"
    }
   ],
   "source": [
    "fig, ((ax1, ax2), (ax3, ax4)) = plt.subplots(2, 2)\n",
    "ax1.imshow(new_ax[1*length+1], cmap='gray', vmin=0, vmax=255)\n",
    "ax1.set_title('Norte')\n",
    "ax2.imshow(new_ax[2*length+1], cmap='gray', vmin=0, vmax=255)\n",
    "ax2.set_title('Sul')\n",
    "ax3.imshow(new_ax[3*length+1], cmap='gray', vmin=0, vmax=255)\n",
    "ax3.set_title('Leste')\n",
    "ax4.imshow(new_ax[4*length+1], cmap='gray', vmin=0, vmax=255)\n",
    "ax4.set_title('Oeste')"
   ]
  },
  {
   "cell_type": "code",
   "execution_count": 55,
   "metadata": {},
   "outputs": [],
   "source": [
    "new_ay = np.zeros(5*ay.shape[0])\n",
    "new_ay[:ay.shape[0]] = ay[:]\n",
    "new_ay[ay.shape[0]:2*ay.shape[0]] = ay[:]\n",
    "new_ay[2*ay.shape[0]:3*ay.shape[0]] = ay[:]\n",
    "new_ay[3*ay.shape[0]:4*ay.shape[0]] = ay[:]\n",
    "new_ay[4*ay.shape[0]:5*ay.shape[0]] = ay[:]"
   ]
  },
  {
   "cell_type": "code",
   "execution_count": 56,
   "metadata": {},
   "outputs": [],
   "source": [
    "new_ax = new_ax.astype('float32')\n",
    "qx = qx.astype('float32')\n",
    "new_ax = new_ax.reshape(new_ax.shape[0],new_ax.shape[1]*new_ax.shape[2])\n",
    "qx = qx.reshape(qx.shape[0],qx.shape[1]*qx.shape[2])\n",
    "new_ax /= 255.0 #0 a 1\n",
    "qx /= 255.0 #0 a 1\n",
    "qp=np.empty(qy.shape,dtype=\"uint8\")"
   ]
  },
  {
   "cell_type": "code",
   "execution_count": 57,
   "metadata": {},
   "outputs": [],
   "source": [
    "t1 = time.time()\n",
    "FLANN_INDEX_KDTREE = 1\n",
    "flann_params = dict(algorithm = FLANN_INDEX_KDTREE, trees = 4)\n",
    "flann = cv2.flann_Index(new_ax, flann_params)\n",
    "t2 = time.time()\n",
    "matches, dists = flann.knnSearch(qx, 1)\n",
    "t3 = time.time()"
   ]
  },
  {
   "cell_type": "code",
   "execution_count": 58,
   "metadata": {},
   "outputs": [],
   "source": [
    "for l in range(matches.shape[0]):\n",
    "    i=matches[l]\n",
    "    qp[l]=new_ay[i]"
   ]
  },
  {
   "cell_type": "code",
   "execution_count": 59,
   "metadata": {},
   "outputs": [],
   "source": [
    "erros=0;\n",
    "for l in range(matches.shape[0]):\n",
    "    if qp[l]!=qy[l]: erros+=1"
   ]
  },
  {
   "cell_type": "code",
   "execution_count": 60,
   "metadata": {},
   "outputs": [
    {
     "name": "stdout",
     "output_type": "stream",
     "text": [
      "Erros= 3.84%\n",
      "Tempo de treinamento: 6.465460\n",
      "Tempo de predicao: 0.335360\n"
     ]
    }
   ],
   "source": [
    "print(\"Erros=%5.2f%%\" % (100.0*erros/qy.shape[0]) )\n",
    "print(\"Tempo de treinamento: %f\"%(t2-t1))\n",
    "print(\"Tempo de predicao: %f\"%(t3-t2))"
   ]
  }
 ],
 "metadata": {
  "kernelspec": {
   "display_name": "Python 3.10.4 64-bit",
   "language": "python",
   "name": "python3"
  },
  "language_info": {
   "codemirror_mode": {
    "name": "ipython",
    "version": 3
   },
   "file_extension": ".py",
   "mimetype": "text/x-python",
   "name": "python",
   "nbconvert_exporter": "python",
   "pygments_lexer": "ipython3",
   "version": "3.10.4"
  },
  "orig_nbformat": 4,
  "vscode": {
   "interpreter": {
    "hash": "9be826744cc5714b462ad0c8de88bfa6f016a48973c6317b9546595d1685cabb"
   }
  }
 },
 "nbformat": 4,
 "nbformat_minor": 2
}
