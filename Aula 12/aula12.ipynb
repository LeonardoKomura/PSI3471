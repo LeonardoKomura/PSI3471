{
 "cells": [
  {
   "cell_type": "code",
   "execution_count": null,
   "metadata": {},
   "outputs": [],
   "source": [
    "import os; os.environ['TF_CPP_MIN_LOG_LEVEL']='3'\n",
    "os.environ['TF_FORCE_GPU_ALLOW_GROWTH'] = 'true'\n",
    "from tensorflow import keras\n",
    "from keras.datasets import mnist\n",
    "from keras.models import Sequential\n",
    "from keras.layers import Dropout, Conv2D, MaxPooling2D, Dense, Flatten\n",
    "from keras import optimizers\n",
    "from keras.callbacks import ReduceLROnPlateau\n",
    "import numpy as np; import sys"
   ]
  },
  {
   "cell_type": "code",
   "execution_count": null,
   "metadata": {},
   "outputs": [],
   "source": [
    "def deslocaEsquerda(a):\n",
    " d=a.copy(); d[:,0:-1]=a[:,1:]; return d\n",
    "def deslocaDireita(a):\n",
    " d=a.copy(); d[:,1:]=a[:,0:-1]; return d\n",
    "def deslocaCima(a):\n",
    " d=a.copy(); d[0:-1,:]=a[1:,:]; return d\n",
    "def deslocaBaixo(a):\n",
    " d=a.copy(); d[1:,:]=a[0:-1,:]; return d"
   ]
  },
  {
   "cell_type": "code",
   "execution_count": null,
   "metadata": {},
   "outputs": [],
   "source": [
    "print(\"Lendo MNIST\")\n",
    "(AX, AY), (QX, QY) = mnist.load_data()\n",
    "AX=255-AX; QX=255-QX"
   ]
  },
  {
   "cell_type": "code",
   "execution_count": null,
   "metadata": {},
   "outputs": [],
   "source": [
    "print(\"Fazendo manualmente data augmentation\")\n",
    "AX.resize((5*60000,28,28))\n",
    "AY.resize((5*60000,1))\n",
    "for s in range(60000):\n",
    " AX[s+60000]=deslocaEsquerda(AX[s])\n",
    " AX[s+2*60000]=deslocaDireita(AX[s])\n",
    " AX[s+3*60000]=deslocaCima(AX[s])\n",
    " AX[s+4*60000]=deslocaBaixo(AX[s])\n",
    " AY[s+60000]=AY[s]\n",
    " AY[s+2*60000]=AY[s]\n",
    " AY[s+3*60000]=AY[s]\n",
    " AY[s+4*60000]=AY[s]"
   ]
  },
  {
   "cell_type": "code",
   "execution_count": null,
   "metadata": {},
   "outputs": [],
   "source": [
    "print(\"Convertendo para categorico e float\")\n",
    "nclasses = 10\n",
    "AY2 = keras.utils.to_categorical(AY, nclasses)\n",
    "QY2 = keras.utils.to_categorical(QY, nclasses)\n",
    "nl, nc = AX.shape[1], AX.shape[2] #28, 28\n",
    "AX = AX.astype('float32') / 255.0 - 0.5 # -0.5 a +0.5\n",
    "QX = QX.astype('float32') / 255.0 - 0.5 # -0.5 a +0.5\n",
    "AX = AX.reshape(AX.shape[0], nl, nc, 1)\n",
    "QX = QX.reshape(QX.shape[0], nl, nc, 1)"
   ]
  },
  {
   "cell_type": "code",
   "execution_count": null,
   "metadata": {},
   "outputs": [],
   "source": [
    "print(\"Construindo modelo\")\n",
    "model = Sequential()\n",
    "model.add(Conv2D(20, kernel_size=(3,3), activation='relu', input_shape=(nl,nc,1)))\n",
    "model.add(MaxPooling2D(pool_size=(2,2)))\n",
    "model.add(Conv2D(40, kernel_size=(3,3), activation='relu'))\n",
    "model.add(MaxPooling2D(pool_size=(2,2)))\n",
    "model.add(Dropout(0.25))\n",
    "model.add(Conv2D(40, kernel_size=(3,3), activation='relu'))\n",
    "model.add(MaxPooling2D(pool_size=(2,2)))\n",
    "model.add(Dropout(0.25))\n",
    "model.add(Flatten())\n",
    "model.add(Dense(200, activation='relu'))\n",
    "model.add(Dropout(0.5))\n",
    "model.add(Dense(50, activation='relu'))\n",
    "model.add(Dropout(0.5))\n",
    "model.add(Dense(nclasses, activation='softmax'))"
   ]
  },
  {
   "cell_type": "code",
   "execution_count": null,
   "metadata": {},
   "outputs": [],
   "source": [
    "print(\"Treinando modelo\")\n",
    "opt=optimizers.Adam(learning_rate=0.001)\n",
    "model.compile(optimizer=opt, loss=\"categorical_crossentropy\", metrics=[\"accuracy\"])"
   ]
  },
  {
   "cell_type": "code",
   "execution_count": null,
   "metadata": {},
   "outputs": [],
   "source": [
    "reduce_lr = ReduceLROnPlateau(monitor='accuracy',\n",
    " factor=0.9, patience=2, min_lr=0.0001, verbose=True)\n",
    "model.fit(AX, AY2, batch_size=1000, epochs=100, verbose=2,\n",
    " validation_data=(QX, QY2), callbacks=[reduce_lr])"
   ]
  },
  {
   "cell_type": "code",
   "execution_count": null,
   "metadata": {},
   "outputs": [],
   "source": [
    "score = model.evaluate(QX, QY2, verbose=False)\n",
    "print('Test loss: %.4f'%(score[0]))\n",
    "print('Test accuracy: %.2f %%'%(100*score[1]))\n",
    "print('Test error: %.2f %%'%(100*(1-score[1])))\n",
    "model.save(\"cnn2.h5\")"
   ]
  }
 ],
 "metadata": {
  "language_info": {
   "name": "python"
  },
  "orig_nbformat": 4
 },
 "nbformat": 4,
 "nbformat_minor": 2
}
