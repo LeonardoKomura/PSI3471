{
 "cells": [
  {
   "cell_type": "code",
   "execution_count": 235,
   "metadata": {},
   "outputs": [],
   "source": [
    "## EP1 - PSI3471\n",
    "## Aluno: Leonardo Isao Komura - NUSP: 11261656"
   ]
  },
  {
   "cell_type": "code",
   "execution_count": 236,
   "metadata": {},
   "outputs": [],
   "source": [
    "import cv2\n",
    "import glob\n",
    "import numpy as np; import sys; import os; from time import time\n",
    "import pandas as pd\n",
    "import matplotlib.pyplot as plt\n",
    "import math\n",
    "import tensorflow as tf\n",
    "from tensorflow import keras\n",
    "from keras import layers\n",
    "from keras.models import Sequential\n",
    "from keras.layers import Dropout, Conv2D, MaxPooling2D, Dense, Flatten\n",
    "from keras import optimizers\n",
    "from keras.optimizers import Adam\n",
    "from sklearn.model_selection import train_test_split"
   ]
  },
  {
   "cell_type": "code",
   "execution_count": 237,
   "metadata": {},
   "outputs": [],
   "source": [
    "def findCenterAndOrientation(img):\n",
    "    m = cv2.moments(img)\n",
    "    cen_x = int(m[\"m10\"]/m[\"m00\"])\n",
    "    cen_y = int(m[\"m01\"]/m[\"m00\"])\n",
    "    theta = 0.5 * math.atan2(2*m[\"mu11\"], m[\"mu20\"]-m[\"mu02\"])\n",
    "    return cen_x, cen_y, theta"
   ]
  },
  {
   "cell_type": "code",
   "execution_count": 238,
   "metadata": {},
   "outputs": [],
   "source": [
    "def le(diretorio,nl,nc,inic,fim):\n",
    "    nclasses=len(diretorio)\n",
    "    n=nclasses*(fim-inic+1)\n",
    "    AX=np.empty((n,nl,nc),np.uint8);\n",
    "    AY=np.empty((n,),np.uint8);\n",
    " \n",
    "    j=0; k=0\n",
    "    for nome in diretorio:\n",
    "        for i in range(inic,fim+1):\n",
    "            st = nome + \" (\" + str(i) + \").\"+\"jpg\"; st = nome+\"/\"+st; #print(st)\n",
    "            a=cv2.imread(st,cv2.IMREAD_GRAYSCALE)\n",
    "            if a is None: print(\"Erro leitura\",st); sys.exit()\n",
    "            a=cv2.resize(a,(nl,nc),interpolation=cv2.INTER_AREA)\n",
    "            AX[k,:,:]=a; AY[k]=j\n",
    "            k+=1\n",
    "        j+=1\n",
    "    return AX,AY"
   ]
  },
  {
   "cell_type": "code",
   "execution_count": 239,
   "metadata": {},
   "outputs": [],
   "source": [
    "def escreve(img, diretorio, inic, fim):\n",
    "    dir = 0\n",
    "    bias = int(img.shape[0]/5)\n",
    "    for nome in diretorio:\n",
    "        for i in range(inic,fim+1):\n",
    "            st = nome + \" (\" + str(i) + \").\"+\"png\"; st = nome+\"/\"+st\n",
    "            cv2.imwrite(st, img[dir+i-inic])\n",
    "        dir = dir+bias"
   ]
  },
  {
   "cell_type": "code",
   "execution_count": 240,
   "metadata": {},
   "outputs": [],
   "source": [
    "def rotate(img):\n",
    "   rotation = np.empty((img.shape))\n",
    "   height, width = img.shape[1:3] \n",
    "   for i in range(img.shape[0]):\n",
    "      x, y, theta = findCenterAndOrientation(img[i])\n",
    "      rotM = cv2.getRotationMatrix2D(center=(x,y), angle=theta*180/math.pi, scale=1)\n",
    "      rotation[i] = cv2.warpAffine(src=img[i], M=rotM, dsize=(width, height))\n",
    "   return rotation "
   ]
  },
  {
   "cell_type": "code",
   "execution_count": 241,
   "metadata": {},
   "outputs": [],
   "source": [
    "diretorio=[\"Arborio\",\"Basmati\",\"Ipsala\",\"Jasmine\",\"Karacadag\"]\n",
    "nl = 125\n",
    "nc = 125\n",
    "AX,AY=le(diretorio,nl,nc,1,100)\n",
    "qx,qy=le(diretorio,nl,nc,101,1000)"
   ]
  },
  {
   "cell_type": "code",
   "execution_count": 242,
   "metadata": {},
   "outputs": [
    {
     "data": {
      "image/png": "[encoded data removed]",
      "text/plain": [
       "<Figure size 432x288 with 1 Axes>"
      ]
     },
     "metadata": {
      "needs_background": "light"
     },
     "output_type": "display_data"
    }
   ],
   "source": [
    "arborio = 0\n",
    "basmati = 100\n",
    "ipsala = 200\n",
    "jasmine = 300\n",
    "karacadag = 400\n",
    "\n",
    "imgplot = plt.imshow(AX[jasmine+1], cmap='gray')\n",
    "plt.show()"
   ]
  },
  {
   "cell_type": "code",
   "execution_count": 243,
   "metadata": {},
   "outputs": [
    {
     "name": "stdout",
     "output_type": "stream",
     "text": [
      "(500, 125, 125)\n",
      "(4500, 125, 125)\n"
     ]
    }
   ],
   "source": [
    "print(AX.shape)\n",
    "print(qx.shape)"
   ]
  },
  {
   "cell_type": "code",
   "execution_count": 244,
   "metadata": {},
   "outputs": [],
   "source": [
    "AXR = rotate(AX)\n",
    "qxr = rotate(qx)"
   ]
  },
  {
   "cell_type": "code",
   "execution_count": 245,
   "metadata": {},
   "outputs": [
    {
     "data": {
      "image/png": "[encoded data removed]",
      "text/plain": [
       "<Figure size 432x288 with 1 Axes>"
      ]
     },
     "metadata": {
      "needs_background": "light"
     },
     "output_type": "display_data"
    }
   ],
   "source": [
    "imgplot = plt.imshow(AXR[jasmine+1], cmap='gray')\n",
    "plt.show()"
   ]
  },
  {
   "cell_type": "code",
   "execution_count": 246,
   "metadata": {},
   "outputs": [],
   "source": [
    "escreve(AXR,diretorio,1,100)\n",
    "escreve(qxr,diretorio,101,1000)"
   ]
  },
  {
   "cell_type": "code",
   "execution_count": 247,
   "metadata": {},
   "outputs": [
    {
     "name": "stdout",
     "output_type": "stream",
     "text": [
      "(500, 125, 125)\n"
     ]
    }
   ],
   "source": [
    "print(AXR.shape)"
   ]
  },
  {
   "cell_type": "code",
   "execution_count": 248,
   "metadata": {},
   "outputs": [
    {
     "name": "stdout",
     "output_type": "stream",
     "text": [
      "Qtde de treino: 450\n",
      "Qtde de validação: 50\n"
     ]
    }
   ],
   "source": [
    "# Validação cruzada\n",
    "from sklearn.model_selection import train_test_split\n",
    "x_train, x_val, y_train1, y_val1 = train_test_split(AX, AY, test_size = 0.1, random_state=1)\n",
    "print('Qtde de treino: {}'.format(len(x_train)))\n",
    "print('Qtde de validação: {}'.format(len(x_val)))"
   ]
  },
  {
   "cell_type": "code",
   "execution_count": 249,
   "metadata": {},
   "outputs": [],
   "source": [
    "y_train = keras.utils.to_categorical(y_train1, 5)\n",
    "y_val = keras.utils.to_categorical(y_val1, 5)\n",
    "qy2 = keras.utils.to_categorical(qy, 5)"
   ]
  },
  {
   "cell_type": "code",
   "execution_count": 250,
   "metadata": {},
   "outputs": [],
   "source": [
    "model = Sequential() \n",
    "model.add(Conv2D(20, kernel_size=(5,5), activation='relu', input_shape=(125, 125, 1) )) #20x24x24\n",
    "model.add(MaxPooling2D(pool_size=(2,2))) \n",
    "model.add(Conv2D(40, kernel_size=(5,5), activation='relu')) \n",
    "model.add(MaxPooling2D(pool_size=(2,2)))\n",
    "model.add(Flatten())\n",
    "model.add(Dense(200, activation='relu')) \n",
    "model.add(Dense(5, activation='softmax')) "
   ]
  },
  {
   "cell_type": "code",
   "execution_count": 251,
   "metadata": {},
   "outputs": [],
   "source": [
    "opt=optimizers.Adam()\n",
    "model.compile(optimizer=opt, loss='categorical_crossentropy', metrics=['accuracy'])"
   ]
  },
  {
   "cell_type": "code",
   "execution_count": 252,
   "metadata": {},
   "outputs": [
    {
     "name": "stdout",
     "output_type": "stream",
     "text": [
      "Epoch 1/10\n",
      "5/5 [==============================] - 9s 2s/step - loss: 158.9671 - accuracy: 0.2244 - val_loss: 22.6662 - val_accuracy: 0.4200\n",
      "Epoch 2/10\n",
      "5/5 [==============================] - 6s 1s/step - loss: 7.5456 - accuracy: 0.6156 - val_loss: 2.6855 - val_accuracy: 0.4600\n",
      "Epoch 3/10\n",
      "5/5 [==============================] - 6s 1s/step - loss: 1.5657 - accuracy: 0.5356 - val_loss: 1.2864 - val_accuracy: 0.5000\n",
      "Epoch 4/10\n",
      "5/5 [==============================] - 6s 1s/step - loss: 0.7550 - accuracy: 0.6956 - val_loss: 0.8069 - val_accuracy: 0.6200\n",
      "Epoch 5/10\n",
      "5/5 [==============================] - 6s 1s/step - loss: 0.3268 - accuracy: 0.8800 - val_loss: 0.5284 - val_accuracy: 0.8400\n",
      "Epoch 6/10\n",
      "5/5 [==============================] - 6s 1s/step - loss: 0.1801 - accuracy: 0.9444 - val_loss: 0.4800 - val_accuracy: 0.8600\n",
      "Epoch 7/10\n",
      "5/5 [==============================] - 6s 1s/step - loss: 0.1075 - accuracy: 0.9733 - val_loss: 0.4274 - val_accuracy: 0.8400\n",
      "Epoch 8/10\n",
      "5/5 [==============================] - 6s 1s/step - loss: 0.0563 - accuracy: 0.9822 - val_loss: 0.3935 - val_accuracy: 0.8600\n",
      "Epoch 9/10\n",
      "5/5 [==============================] - 6s 1s/step - loss: 0.0352 - accuracy: 0.9889 - val_loss: 0.3943 - val_accuracy: 0.8600\n",
      "Epoch 10/10\n",
      "5/5 [==============================] - 6s 1s/step - loss: 0.0213 - accuracy: 0.9956 - val_loss: 0.4390 - val_accuracy: 0.8600\n",
      "Tempo de treino: 62.27 s\n"
     ]
    }
   ],
   "source": [
    "t0=time()\n",
    "history = model.fit(x_train, y_train,\n",
    "                    batch_size=100,\n",
    "                    epochs=10,\n",
    "                    validation_data=(x_val, y_val))\n",
    "t1=time(); print(\"Tempo de treino: %.2f s\"%(t1-t0))"
   ]
  },
  {
   "cell_type": "code",
   "execution_count": 253,
   "metadata": {},
   "outputs": [
    {
     "name": "stdout",
     "output_type": "stream",
     "text": [
      "Test loss: 0.1495\n",
      "Test accuracy: 94.71 %\n",
      "Test error: 5.29 %\n"
     ]
    }
   ],
   "source": [
    "score = model.evaluate(qx, qy2, verbose=False)\n",
    "print('Test loss: %.4f'%(score[0]))\n",
    "print('Test accuracy: %.2f %%'%(100*score[1]))\n",
    "print('Test error: %.2f %%'%(100*(1-score[1])))"
   ]
  },
  {
   "cell_type": "code",
   "execution_count": 254,
   "metadata": {},
   "outputs": [
    {
     "name": "stdout",
     "output_type": "stream",
     "text": [
      "141/141 [==============================] - 16s 111ms/step\n",
      "Tempo de predicao: 15.94 s\n",
      "nerro=238\n"
     ]
    }
   ],
   "source": [
    "t2=time()\n",
    "QP2=model.predict(qx); QP=np.argmax(QP2,1)\n",
    "t3=time(); print(\"Tempo de predicao: %.2f s\"%(t3-t2))\n",
    "nerro=np.count_nonzero(QP-qy); print(\"nerro=%d\"%(nerro))"
   ]
  }
 ],
 "metadata": {
  "kernelspec": {
   "display_name": "Python 3.10.4 64-bit",
   "language": "python",
   "name": "python3"
  },
  "language_info": {
   "codemirror_mode": {
    "name": "ipython",
    "version": 3
   },
   "file_extension": ".py",
   "mimetype": "text/x-python",
   "name": "python",
   "nbconvert_exporter": "python",
   "pygments_lexer": "ipython3",
   "version": "3.10.4"
  },
  "orig_nbformat": 4,
  "vscode": {
   "interpreter": {
    "hash": "9be826744cc5714b462ad0c8de88bfa6f016a48973c6317b9546595d1685cabb"
   }
  }
 },
 "nbformat": 4,
 "nbformat_minor": 2
}
