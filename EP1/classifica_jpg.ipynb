{
 "cells": [
  {
   "cell_type": "code",
   "execution_count": 1,
   "metadata": {},
   "outputs": [],
   "source": [
    "## EP1 - PSI3471\n",
    "## Aluno: Leonardo Isao Komura - NUSP: 11261656"
   ]
  },
  {
   "cell_type": "code",
   "execution_count": 2,
   "metadata": {},
   "outputs": [],
   "source": [
    "import cv2\n",
    "import glob\n",
    "import numpy as np; import sys; import os; from time import time\n",
    "import pandas as pd\n",
    "import matplotlib.pyplot as plt\n",
    "import math\n",
    "import tensorflow as tf\n",
    "from tensorflow import keras\n",
    "from keras import layers\n",
    "from keras.models import Sequential\n",
    "from keras.layers import Dropout, Conv2D, MaxPooling2D, Dense, Flatten\n",
    "from keras import optimizers\n",
    "from keras.optimizers import Adam\n",
    "from sklearn.model_selection import train_test_split"
   ]
  },
  {
   "cell_type": "code",
   "execution_count": 3,
   "metadata": {},
   "outputs": [],
   "source": [
    "def le(diretorio,nl,nc,inic,fim):\n",
    "    nclasses=len(diretorio)\n",
    "    n=nclasses*(fim-inic+1)\n",
    "    AX=np.empty((n,nl,nc),np.uint8);\n",
    "    AY=np.empty((n,),np.uint8);\n",
    " \n",
    "    j=0; k=0\n",
    "    for nome in diretorio:\n",
    "        for i in range(inic,fim+1):\n",
    "            st = nome + \" (\" + str(i) + \").\"+\"jpg\"; st = nome+\"/\"+st; #print(st)\n",
    "            a=cv2.imread(st,cv2.IMREAD_GRAYSCALE)\n",
    "            if a is None: print(\"Erro leitura\",st); sys.exit()\n",
    "            a=cv2.resize(a,(nl,nc),interpolation=cv2.INTER_AREA)\n",
    "            AX[k,:,:]=a; AY[k]=j\n",
    "            k+=1\n",
    "        j+=1\n",
    "    return AX,AY"
   ]
  },
  {
   "cell_type": "code",
   "execution_count": 4,
   "metadata": {},
   "outputs": [],
   "source": [
    "diretorio=[\"Arborio\",\"Basmati\",\"Ipsala\",\"Jasmine\",\"Karacadag\"]\n",
    "nl = 125\n",
    "nc = 125\n",
    "AX,AY=le(diretorio,nl,nc,1,100)\n",
    "qx,qy=le(diretorio,nl,nc,101,1000)"
   ]
  },
  {
   "cell_type": "code",
   "execution_count": 5,
   "metadata": {},
   "outputs": [
    {
     "data": {
      "image/png": "[encoded data removed]",
      "text/plain": [
       "<Figure size 432x288 with 1 Axes>"
      ]
     },
     "metadata": {
      "needs_background": "light"
     },
     "output_type": "display_data"
    }
   ],
   "source": [
    "arborio = 0\n",
    "basmati = 100\n",
    "ipsala = 200\n",
    "jasmine = 300\n",
    "karacadag = 400\n",
    "\n",
    "imgplot = plt.imshow(AX[jasmine+1], cmap='gray')\n",
    "plt.show()"
   ]
  },
  {
   "cell_type": "code",
   "execution_count": 6,
   "metadata": {},
   "outputs": [
    {
     "name": "stdout",
     "output_type": "stream",
     "text": [
      "Qtde de treino: 450\n",
      "Qtde de validação: 50\n"
     ]
    }
   ],
   "source": [
    "# Validação cruzada\n",
    "from sklearn.model_selection import train_test_split\n",
    "x_train, x_val, y_train1, y_val1 = train_test_split(AX, AY, test_size = 0.1, random_state=1)\n",
    "print('Qtde de treino: {}'.format(len(x_train)))\n",
    "print('Qtde de validação: {}'.format(len(x_val)))"
   ]
  },
  {
   "cell_type": "code",
   "execution_count": 7,
   "metadata": {},
   "outputs": [],
   "source": [
    "y_train = keras.utils.to_categorical(y_train1, 5)\n",
    "y_val = keras.utils.to_categorical(y_val1, 5)\n",
    "qy2 = keras.utils.to_categorical(qy, 5)"
   ]
  },
  {
   "cell_type": "code",
   "execution_count": 8,
   "metadata": {},
   "outputs": [],
   "source": [
    "model = Sequential() \n",
    "model.add(Conv2D(50, kernel_size=(3,3), activation='elu', input_shape=(125, 125, 1) )) \n",
    "model.add(MaxPooling2D(pool_size=(2,2))) \n",
    "model.add(Conv2D(100, kernel_size=(3,3), activation='elu')) \n",
    "model.add(MaxPooling2D(pool_size=(2,2)))\n",
    "model.add(Dropout(0.25))\n",
    "model.add(Conv2D(50, kernel_size=(3,3), activation='elu'))\n",
    "model.add(Dropout(0.25))\n",
    "model.add(Flatten())\n",
    "model.add(Dense(50, activation='elu')) \n",
    "model.add(Dense(5, activation='softmax')) "
   ]
  },
  {
   "cell_type": "code",
   "execution_count": 9,
   "metadata": {},
   "outputs": [],
   "source": [
    "opt=optimizers.Adam()\n",
    "model.compile(optimizer=opt, loss='categorical_crossentropy', metrics=['accuracy'])\n",
    "model.save_weights('model.h5')          # weights e bias iniciais"
   ]
  },
  {
   "cell_type": "code",
   "execution_count": 10,
   "metadata": {},
   "outputs": [
    {
     "name": "stdout",
     "output_type": "stream",
     "text": [
      "Epoch 1/10\n",
      "18/18 [==============================] - 12s 626ms/step - loss: 7.3614 - accuracy: 0.4844 - val_loss: 0.3621 - val_accuracy: 0.7800\n",
      "Epoch 2/10\n",
      "18/18 [==============================] - 11s 584ms/step - loss: 0.3341 - accuracy: 0.8711 - val_loss: 0.2850 - val_accuracy: 0.9400\n",
      "Epoch 3/10\n",
      "18/18 [==============================] - 11s 631ms/step - loss: 0.1533 - accuracy: 0.9578 - val_loss: 0.1469 - val_accuracy: 0.9400\n",
      "Epoch 4/10\n",
      "18/18 [==============================] - 10s 580ms/step - loss: 0.0614 - accuracy: 0.9800 - val_loss: 0.1417 - val_accuracy: 0.9600\n",
      "Epoch 5/10\n",
      "18/18 [==============================] - 11s 618ms/step - loss: 0.0591 - accuracy: 0.9822 - val_loss: 0.0479 - val_accuracy: 0.9800\n",
      "Epoch 6/10\n",
      "18/18 [==============================] - 11s 619ms/step - loss: 0.0414 - accuracy: 0.9844 - val_loss: 0.0649 - val_accuracy: 0.9800\n",
      "Epoch 7/10\n",
      "18/18 [==============================] - 11s 603ms/step - loss: 0.0231 - accuracy: 0.9889 - val_loss: 0.1798 - val_accuracy: 0.9400\n",
      "Epoch 8/10\n",
      "18/18 [==============================] - 11s 635ms/step - loss: 0.0153 - accuracy: 0.9933 - val_loss: 0.2288 - val_accuracy: 0.9600\n",
      "Epoch 9/10\n",
      "18/18 [==============================] - 11s 629ms/step - loss: 0.0624 - accuracy: 0.9778 - val_loss: 0.1349 - val_accuracy: 0.9800\n",
      "Epoch 10/10\n",
      "18/18 [==============================] - 12s 662ms/step - loss: 0.0357 - accuracy: 0.9889 - val_loss: 0.2270 - val_accuracy: 0.9400\n",
      "Tempo de treino: 112.82 s\n",
      "\n",
      "Test loss: 0.1745\n",
      "Test accuracy: 95.71 %\n",
      "Test error: 4.29 %\n",
      "\n",
      "\n",
      "141/141 [==============================] - 23s 165ms/step\n",
      "Tempo de predicao: 23.79 s\n",
      "nerro=193\n"
     ]
    }
   ],
   "source": [
    "t0=time()\n",
    "history = model.fit(x_train, y_train,\n",
    "                    batch_size=25,\n",
    "                    epochs=10,\n",
    "                    validation_data=(x_val, y_val))\n",
    "t1=time(); print(\"Tempo de treino: %.2f s\"%(t1-t0))\n",
    "\n",
    "score = model.evaluate(qx, qy2, verbose=False)\n",
    "print('\\nTest loss: %.4f'%(score[0]))\n",
    "print('Test accuracy: %.2f %%'%(100*score[1]))\n",
    "print('Test error: %.2f %%'%(100*(1-score[1])))\n",
    "\n",
    "print(\"\\n\")\n",
    "t2=time()\n",
    "QP2=model.predict(qx); QP=np.argmax(QP2,1)\n",
    "t3=time(); print(\"Tempo de predicao: %.2f s\"%(t3-t2))\n",
    "nerro=np.count_nonzero(QP-qy); print(\"nerro=%d\"%(nerro))"
   ]
  },
  {
   "cell_type": "code",
   "execution_count": 11,
   "metadata": {},
   "outputs": [
    {
     "name": "stdout",
     "output_type": "stream",
     "text": [
      "Epoch 1/10\n",
      "9/9 [==============================] - 11s 1s/step - loss: 10.1515 - accuracy: 0.3489 - val_loss: 1.2987 - val_accuracy: 0.3600\n",
      "Epoch 2/10\n",
      "9/9 [==============================] - 11s 1s/step - loss: 1.0530 - accuracy: 0.5444 - val_loss: 1.3157 - val_accuracy: 0.4200\n",
      "Epoch 3/10\n",
      "9/9 [==============================] - 10s 1s/step - loss: 0.8896 - accuracy: 0.6067 - val_loss: 1.1626 - val_accuracy: 0.4400\n",
      "Epoch 4/10\n",
      "9/9 [==============================] - 10s 1s/step - loss: 0.7129 - accuracy: 0.6644 - val_loss: 0.6939 - val_accuracy: 0.6800\n",
      "Epoch 5/10\n",
      "9/9 [==============================] - 11s 1s/step - loss: 0.5495 - accuracy: 0.7711 - val_loss: 0.4731 - val_accuracy: 0.7400\n",
      "Epoch 6/10\n",
      "9/9 [==============================] - 10s 1s/step - loss: 0.4599 - accuracy: 0.7578 - val_loss: 0.3944 - val_accuracy: 0.7600\n",
      "Epoch 7/10\n",
      "9/9 [==============================] - 11s 1s/step - loss: 0.3924 - accuracy: 0.7200 - val_loss: 0.6233 - val_accuracy: 0.6800\n",
      "Epoch 8/10\n",
      "9/9 [==============================] - 11s 1s/step - loss: 0.3009 - accuracy: 0.8267 - val_loss: 0.2405 - val_accuracy: 0.8800\n",
      "Epoch 9/10\n",
      "9/9 [==============================] - 10s 1s/step - loss: 0.2233 - accuracy: 0.8978 - val_loss: 0.1576 - val_accuracy: 0.9600\n",
      "Epoch 10/10\n",
      "9/9 [==============================] - 11s 1s/step - loss: 0.1608 - accuracy: 0.9356 - val_loss: 0.0969 - val_accuracy: 0.9600\n",
      "Tempo de treino: 104.78 s\n",
      "\n",
      "Test loss: 0.2323\n",
      "Test accuracy: 94.64 %\n",
      "Test error: 5.36 %\n",
      "\n",
      "\n",
      "141/141 [==============================] - 24s 167ms/step\n",
      "Tempo de predicao: 23.62 s\n",
      "nerro=241\n"
     ]
    }
   ],
   "source": [
    "model.load_weights('model.h5')\n",
    "t0=time()\n",
    "history = model.fit(x_train, y_train,\n",
    "                    batch_size=50,\n",
    "                    epochs=10,\n",
    "                    validation_data=(x_val, y_val))\n",
    "t1=time(); print(\"Tempo de treino: %.2f s\"%(t1-t0))\n",
    "\n",
    "score = model.evaluate(qx, qy2, verbose=False)\n",
    "print('\\nTest loss: %.4f'%(score[0]))\n",
    "print('Test accuracy: %.2f %%'%(100*score[1]))\n",
    "print('Test error: %.2f %%'%(100*(1-score[1])))\n",
    "\n",
    "print(\"\\n\")\n",
    "t2=time()\n",
    "QP2=model.predict(qx); QP=np.argmax(QP2,1)\n",
    "t3=time(); print(\"Tempo de predicao: %.2f s\"%(t3-t2))\n",
    "nerro=np.count_nonzero(QP-qy); print(\"nerro=%d\"%(nerro))"
   ]
  },
  {
   "cell_type": "code",
   "execution_count": 12,
   "metadata": {},
   "outputs": [
    {
     "name": "stdout",
     "output_type": "stream",
     "text": [
      "Epoch 1/10\n",
      "5/5 [==============================] - 11s 2s/step - loss: 14.5248 - accuracy: 0.3444 - val_loss: 3.6825 - val_accuracy: 0.3800\n",
      "Epoch 2/10\n",
      "5/5 [==============================] - 11s 2s/step - loss: 0.9848 - accuracy: 0.6556 - val_loss: 0.5470 - val_accuracy: 0.7200\n",
      "Epoch 3/10\n",
      "5/5 [==============================] - 10s 2s/step - loss: 0.4428 - accuracy: 0.8022 - val_loss: 1.0140 - val_accuracy: 0.8200\n",
      "Epoch 4/10\n",
      "5/5 [==============================] - 10s 2s/step - loss: 0.2687 - accuracy: 0.8911 - val_loss: 0.3919 - val_accuracy: 0.9200\n",
      "Epoch 5/10\n",
      "5/5 [==============================] - 11s 2s/step - loss: 0.1365 - accuracy: 0.9356 - val_loss: 1.2587 - val_accuracy: 0.8800\n",
      "Epoch 6/10\n",
      "5/5 [==============================] - 10s 2s/step - loss: 0.1053 - accuracy: 0.9600 - val_loss: 1.2074 - val_accuracy: 0.8800\n",
      "Epoch 7/10\n",
      "5/5 [==============================] - 10s 2s/step - loss: 0.0946 - accuracy: 0.9556 - val_loss: 0.1568 - val_accuracy: 0.9600\n",
      "Epoch 8/10\n",
      "5/5 [==============================] - 11s 2s/step - loss: 0.1113 - accuracy: 0.9533 - val_loss: 0.1960 - val_accuracy: 0.9400\n",
      "Epoch 9/10\n",
      "5/5 [==============================] - 10s 2s/step - loss: 0.0427 - accuracy: 0.9822 - val_loss: 0.1923 - val_accuracy: 0.9400\n",
      "Epoch 10/10\n",
      "5/5 [==============================] - 10s 2s/step - loss: 0.0279 - accuracy: 0.9889 - val_loss: 0.2600 - val_accuracy: 0.9400\n",
      "Tempo de treino: 105.74 s\n",
      "\n",
      "Test loss: 0.2768\n",
      "Test accuracy: 93.38 %\n",
      "Test error: 6.62 %\n",
      "\n",
      "\n",
      "141/141 [==============================] - 23s 163ms/step\n",
      "Tempo de predicao: 41.18 s\n",
      "nerro=298\n"
     ]
    }
   ],
   "source": [
    "model.load_weights('model.h5')\n",
    "t0=time()\n",
    "history = model.fit(x_train, y_train,\n",
    "                    batch_size=100,\n",
    "                    epochs=10,\n",
    "                    validation_data=(x_val, y_val))\n",
    "t1=time(); print(\"Tempo de treino: %.2f s\"%(t1-t0))\n",
    "\n",
    "score = model.evaluate(qx, qy2, verbose=False)\n",
    "print('\\nTest loss: %.4f'%(score[0]))\n",
    "print('Test accuracy: %.2f %%'%(100*score[1]))\n",
    "print('Test error: %.2f %%'%(100*(1-score[1])))\n",
    "\n",
    "print(\"\\n\")\n",
    "t2=time()\n",
    "QP2=model.predict(qx); QP=np.argmax(QP2,1)\n",
    "t3=time(); print(\"Tempo de predicao: %.2f s\"%(t3-t2))\n",
    "nerro=np.count_nonzero(QP-qy); print(\"nerro=%d\"%(nerro))"
   ]
  }
 ],
 "metadata": {
  "kernelspec": {
   "display_name": "Python 3.10.4 64-bit",
   "language": "python",
   "name": "python3"
  },
  "language_info": {
   "codemirror_mode": {
    "name": "ipython",
    "version": 3
   },
   "file_extension": ".py",
   "mimetype": "text/x-python",
   "name": "python",
   "nbconvert_exporter": "python",
   "pygments_lexer": "ipython3",
   "version": "3.10.4"
  },
  "orig_nbformat": 4,
  "vscode": {
   "interpreter": {
    "hash": "9be826744cc5714b462ad0c8de88bfa6f016a48973c6317b9546595d1685cabb"
   }
  }
 },
 "nbformat": 4,
 "nbformat_minor": 2
}
